{
  "nbformat": 4,
  "nbformat_minor": 0,
  "metadata": {
    "colab": {
      "name": "hack_20220603_nn.ipynb",
      "provenance": []
    },
    "kernelspec": {
      "name": "python3",
      "display_name": "Python 3"
    },
    "language_info": {
      "name": "python"
    }
  },
  "cells": [
    {
      "cell_type": "code",
      "source": [
        "! unzip hack_20220603.zip -d hack"
      ],
      "metadata": {
        "id": "_QCP6vxzgERk"
      },
      "execution_count": null,
      "outputs": []
    },
    {
      "cell_type": "code",
      "execution_count": null,
      "metadata": {
        "id": "t_uD3kGRs2FK"
      },
      "outputs": [],
      "source": [
        "import numpy as np\n",
        "import pandas as pd\n",
        "import re\n",
        "\n",
        "from datetime import datetime\n",
        "import datetime, os\n",
        "\n",
        "import pickle\n",
        "import matplotlib.pyplot as plt\n",
        "%matplotlib inline \n",
        "from tqdm import tqdm\n",
        "\n",
        "np.random.seed(2021)"
      ]
    },
    {
      "cell_type": "code",
      "source": [
        "!pip install --upgrade xlrd"
      ],
      "metadata": {
        "id": "Q7LTN24L8qCA",
        "colab": {
          "base_uri": "https://localhost:8080/"
        },
        "outputId": "df579db5-39a9-40c6-9510-b96e9a010548"
      },
      "execution_count": null,
      "outputs": [
        {
          "output_type": "stream",
          "name": "stdout",
          "text": [
            "Looking in indexes: https://pypi.org/simple, https://us-python.pkg.dev/colab-wheels/public/simple/\n",
            "Requirement already satisfied: xlrd in /usr/local/lib/python3.7/dist-packages (2.0.1)\n"
          ]
        }
      ]
    },
    {
      "cell_type": "markdown",
      "source": [
        "https://data.gov.ru/opendata/7708660670-proizvcalendar"
      ],
      "metadata": {
        "id": "IlTLU3p0txki"
      }
    },
    {
      "cell_type": "code",
      "source": [
        "# pr_file = 'https://data.gov.ru/opendata/7708660670-proizvcalendar/data-20191112T1252-structure-20191112T1247.csv?encoding=UTF-8'\n",
        "# df=pd.read_csv(pr_file)\n"
      ],
      "metadata": {
        "id": "jGzqRVMZtybL"
      },
      "execution_count": null,
      "outputs": []
    },
    {
      "cell_type": "code",
      "source": [
        "import requests\n",
        "import re\n",
        "pr_file = 'https://data.gov.ru/opendata/7708660670-proizvcalendar/data-20191112T1252-structure-20191112T1247.csv?encoding=UTF-8'\n",
        "s = requests.get(pr_file).text\n",
        "s = re.sub(\"\\'\",'',s)\n",
        "s = re.sub(\"\\*|\\+\",'',s)\n",
        "dt_list = s.split('\\r\\n')\n",
        "wdates = []\n",
        "for rows in dt_list[1:]:\n",
        "    row = re.split('[\\\",]{2,3}',rows)\n",
        "    for i, x in enumerate(row[1:-1], 1):\n",
        "        \n",
        "        xx = re.split(',', x)\n",
        "        for y in xx:\n",
        "            dd = f\"{row[0]}{i:02}{int(y):02}\"\n",
        "            wdates.append(dd)"
      ],
      "metadata": {
        "id": "DR_FBmLivPRi"
      },
      "execution_count": null,
      "outputs": []
    },
    {
      "cell_type": "code",
      "source": [
        "\n"
      ],
      "metadata": {
        "id": "3ZYIyhCuu2Im"
      },
      "execution_count": null,
      "outputs": []
    },
    {
      "cell_type": "code",
      "source": [
        "col = [\n",
        "       \n",
        "       '1',\n",
        "       '2',\n",
        "       'dt',\n",
        "'id',\n",
        "'age',\n",
        "'person',\n",
        "'address',\n",
        "'porod',\n",
        "'type',\n",
        "'stat',\n",
        "'diag',\n",
        "'result',\n",
        "'state',\n",
        "'base',\n",
        "'first',\n",
        "'last',\n",
        "#'fine',\n",
        "\n",
        "]"
      ],
      "metadata": {
        "id": "WjsvGMsgbsxj"
      },
      "execution_count": null,
      "outputs": []
    },
    {
      "cell_type": "code",
      "source": [
        "import csv\n",
        "\n",
        "\n",
        "def get_tabl(file):\n",
        "    # file = 'Журнал активных вызовов 04-2022.xls'\n",
        "    name = re.split('[ |\\.]', file)[-2]\n",
        "    df=pd.read_excel(file, sheet_name='Print_Povt')\n",
        "    temp_file =f'tmp.csv'\n",
        "    # tabl_file =f'book/t_{name}.csv'\n",
        "   \n",
        "    df.to_csv(temp_file, index=False)\n",
        "\n",
        "\n",
        "    tabl_file =f't_final.csv'\n",
        "\n",
        "    sig_new = False\n",
        "    todf =[]\n",
        "    bigdf=[]\n",
        "\n",
        "    with open(temp_file) as csvfile:\n",
        "        datareader = csv.reader(csvfile)\n",
        "        for i, row in enumerate(datareader):\n",
        "            if i < 3:\n",
        "                continue\n",
        "            # print(row)\n",
        "            # for x in enumerate(row):\n",
        "            #     print(i, x)\n",
        "            try:\n",
        "                if row[2] == 'Номер:':\n",
        "                    todf =[]\n",
        "                    todf.append(i)\n",
        "                    todf.append(name)\n",
        "                    todf.append(row[0])\n",
        "                    todf.append(row[3])\n",
        "                    try:\n",
        "                        tage = re.split(' ',row[16] )\n",
        "                        if tage[1] == 'месяцев':\n",
        "                            tage[0] = 0\n",
        "                        todf.append(tage[0])\n",
        "                    except:\n",
        "                        todf.append(row[16])\n",
        "                    todf.append(row[19])\n",
        "\n",
        "                elif row[0] == 'Адрес:':\n",
        "                    todf.append(row[1])\n",
        "\n",
        "                elif row[0] == 'Повод:':\n",
        "                    todf.append(row[1])\n",
        "                    todf.append(row[11])\n",
        "                    todf.append(row[18])\n",
        "\n",
        "                elif row[0] == 'Диагноз:':\n",
        "                    todf.append(row[1])\n",
        "                    todf.append(row[11])\n",
        "\n",
        "                elif row[0] == 'Доставлен:':\n",
        "                    # print(row)\n",
        "                    todf.append(row[1])\n",
        "                    todf.append(row[17])\n",
        "\n",
        "                elif row[0] == 'Принят:':\n",
        "                    if row[3] == 'Диспетчер:':\n",
        "                         todf.append(re.split(' ',row[1] )[1])\n",
        "                         todf.append('')\n",
        "                    else:\n",
        "                        # ft= re.split(' ',row[8] )[1]\n",
        "                        # ft = re.split('\\.',ft )[0]\n",
        "                        todf.append(re.split(' ',row[8] )[1])\n",
        "                        todf.append(re.split(' ',row[11] )[1])\n",
        "\n",
        "                    bigdf.append(todf)\n",
        "                    # print(todf)\n",
        "                    # print('\\n\\n')\n",
        "            except:\n",
        "                print(row)\n",
        "                break\n",
        "\n",
        "\n",
        "            # if i > 200:\n",
        "            #     break\n",
        "\n",
        "        with open(tabl_file, 'a') as f:\n",
        "            writer = csv.writer(f)\n",
        "            for row in bigdf:\n",
        "                writer.writerow(row)\n",
        "\n",
        "\n",
        "\n",
        "        # with open(tabl_file, 'w') as f:\n",
        "        #     writer = csv.writer(f)\n",
        "        #     for row in bigdf:\n",
        "        #         writer.writerow(row)\n",
        "\n",
        "\n",
        "\n",
        "\n",
        "    # df2= pd.DataFrame(bigdf, columns =col)\n",
        "    # df2.to_csv(tabl_file, index = False)\n",
        "\n"
      ],
      "metadata": {
        "id": "hwGV3NThy8Us"
      },
      "execution_count": null,
      "outputs": []
    },
    {
      "cell_type": "code",
      "source": [
        "list_files = os.listdir('hack')"
      ],
      "metadata": {
        "id": "ZQ9GV9X1gul3"
      },
      "execution_count": null,
      "outputs": []
    },
    {
      "cell_type": "code",
      "source": [
        "os.mkdir('book')"
      ],
      "metadata": {
        "colab": {
          "base_uri": "https://localhost:8080/",
          "height": 171
        },
        "id": "p-YZq5GBg4i5",
        "outputId": "fa1dc86c-3026-45a7-fa27-80803a0edd69"
      },
      "execution_count": null,
      "outputs": [
        {
          "output_type": "error",
          "ename": "FileExistsError",
          "evalue": "ignored",
          "traceback": [
            "\u001b[0;31m---------------------------------------------------------------------------\u001b[0m",
            "\u001b[0;31mFileExistsError\u001b[0m                           Traceback (most recent call last)",
            "\u001b[0;32m<ipython-input-10-5a5b92109b62>\u001b[0m in \u001b[0;36m<module>\u001b[0;34m()\u001b[0m\n\u001b[0;32m----> 1\u001b[0;31m \u001b[0mos\u001b[0m\u001b[0;34m.\u001b[0m\u001b[0mmkdir\u001b[0m\u001b[0;34m(\u001b[0m\u001b[0;34m'book'\u001b[0m\u001b[0;34m)\u001b[0m\u001b[0;34m\u001b[0m\u001b[0;34m\u001b[0m\u001b[0m\n\u001b[0m",
            "\u001b[0;31mFileExistsError\u001b[0m: [Errno 17] File exists: 'book'"
          ]
        }
      ]
    },
    {
      "cell_type": "code",
      "source": [
        "tabl_file =f't_final.csv'\n",
        "with open(tabl_file, 'w') as f:\n",
        "    writer = csv.writer(f)\n",
        "    writer.writerow(col)\n"
      ],
      "metadata": {
        "id": "QIdQuU9SrfMs"
      },
      "execution_count": null,
      "outputs": []
    },
    {
      "cell_type": "code",
      "source": [
        "# file = 'Журнал активных вызовов 04-2022.xls'\n",
        "# get_tabl(file)\n",
        "\n",
        "from tqdm import tqdm\n",
        "\n",
        "for file in tqdm(list_files):\n",
        "    get_tabl(file)"
      ],
      "metadata": {
        "colab": {
          "base_uri": "https://localhost:8080/"
        },
        "id": "xbmyMmRjX_Bx",
        "outputId": "925fc176-cc24-45ac-b619-9229888d7f55"
      },
      "execution_count": null,
      "outputs": [
        {
          "output_type": "stream",
          "name": "stderr",
          "text": [
            "  4%|▎         | 1/28 [00:02<00:54,  2.03s/it]"
          ]
        },
        {
          "output_type": "stream",
          "name": "stdout",
          "text": [
            "['Принят:', '', '', '', '', '', '', '', '', '', 'Приезд:', '', '', 'Госпит-ан:', '', '', '', '', '', 'Испол.', '']\n"
          ]
        },
        {
          "output_type": "stream",
          "name": "stderr",
          "text": [
            " 21%|██▏       | 6/28 [00:12<00:43,  1.98s/it]"
          ]
        },
        {
          "output_type": "stream",
          "name": "stdout",
          "text": [
            "['Принят:', '', '', '', '', '', '', '', '', '', 'Приезд:', '', '', 'Госпит-ан:', '', '', '', '', '', 'Испол.', '']\n"
          ]
        },
        {
          "output_type": "stream",
          "name": "stderr",
          "text": [
            " 50%|█████     | 14/28 [00:28<00:22,  1.64s/it]"
          ]
        },
        {
          "output_type": "stream",
          "name": "stdout",
          "text": [
            "['Принят:', '', '', '', '', '', '', '', '', '', 'Приезд:', '', '', 'Госпит-ан:', '', '', '', '', '', 'Испол.', '']\n"
          ]
        },
        {
          "output_type": "stream",
          "name": "stderr",
          "text": [
            " 61%|██████    | 17/28 [00:34<00:21,  1.93s/it]"
          ]
        },
        {
          "output_type": "stream",
          "name": "stdout",
          "text": [
            "['Принят:', '', '', '', '', '', '', '', '', '', 'Приезд:', '', '', 'Госпит-ан:', '', '', '', '', '', 'Испол.', '']\n"
          ]
        },
        {
          "output_type": "stream",
          "name": "stderr",
          "text": [
            " 68%|██████▊   | 19/28 [00:38<00:18,  2.02s/it]"
          ]
        },
        {
          "output_type": "stream",
          "name": "stdout",
          "text": [
            "['Принят:', '', '', '', '', '', '', '', '1970-01-01 11:39:27.802', '', 'Приезд:', '', '', 'Госпит-ан:', '', '', '', '', '', 'Испол.', '']\n"
          ]
        },
        {
          "output_type": "stream",
          "name": "stderr",
          "text": [
            " 89%|████████▉ | 25/28 [00:46<00:03,  1.33s/it]"
          ]
        },
        {
          "output_type": "stream",
          "name": "stdout",
          "text": [
            "['Принят:', '', '', '', '', '', '', '', '', '', 'Приезд:', '', '', 'Госпит-ан:', '', '', '', '', '', 'Испол.', '']\n"
          ]
        },
        {
          "output_type": "stream",
          "name": "stderr",
          "text": [
            "\r 93%|█████████▎| 26/28 [00:49<00:03,  1.71s/it]"
          ]
        },
        {
          "output_type": "stream",
          "name": "stdout",
          "text": [
            "['Принят:', '', '', '', '', '', '', '', '1970-01-01 16:28:10.538', '', 'Приезд:', '', '', 'Госпит-ан:', '', '', '', '', '', 'Испол.', '']\n"
          ]
        },
        {
          "output_type": "stream",
          "name": "stderr",
          "text": [
            "100%|██████████| 28/28 [00:50<00:00,  1.79s/it]\n"
          ]
        }
      ]
    },
    {
      "cell_type": "code",
      "source": [
        "list_book = os.listdir('book')"
      ],
      "metadata": {
        "id": "tCgG6ox-zByc"
      },
      "execution_count": null,
      "outputs": []
    },
    {
      "cell_type": "code",
      "source": [
        "df=pd.read_csv(f't_final.csv')\n",
        "# df=df[~(df['1'] == -1)]\n",
        "df['age']=df['age'].replace('-', '-1').astype('int')\n",
        "df['age'][df['age']>150] = -1\n",
        "df['first'] = df['first'].str.replace('\\..+','')\n",
        "df['last']  = df['last'].str.replace('\\..+','')\n",
        "\n",
        "df['hour'] = pd.to_datetime(df['first'], format=\"%H:%M:%S\")\n",
        "df['hour']   = df['hour'].dt.hour\n",
        "\n",
        "\n",
        "df['dt'] = pd.to_datetime(df['dt'], format=\"%Y-%m-%d\")\n",
        "\n",
        "df=df.dropna(subset = ['dt']).reset_index(drop=True)\n",
        "\n",
        "df['month']  = df['dt'].dt.month\n",
        "df['weekday']= df['dt'].dt.weekday+1\n",
        "df['week']   = df['dt'].dt.isocalendar().week\n",
        "\n",
        "df=df.sort_values(by = 'dt').reset_index(drop=True)\n",
        "# df['diff'] = (pd.to_datetime(df['last'], format=\"%H:%M:%S\")-pd.to_datetime(df['first'], format=\"%H:%M:%S\")).astype('timedelta64[m]')\n",
        "\n",
        "df.info()"
      ],
      "metadata": {
        "colab": {
          "base_uri": "https://localhost:8080/"
        },
        "id": "MlmpIgWdks2P",
        "outputId": "2f45d37e-9573-4fdd-a191-8033aec1bb2d"
      },
      "execution_count": null,
      "outputs": [
        {
          "output_type": "stream",
          "name": "stderr",
          "text": [
            "/usr/local/lib/python3.7/dist-packages/ipykernel_launcher.py:4: SettingWithCopyWarning: \n",
            "A value is trying to be set on a copy of a slice from a DataFrame\n",
            "\n",
            "See the caveats in the documentation: https://pandas.pydata.org/pandas-docs/stable/user_guide/indexing.html#returning-a-view-versus-a-copy\n",
            "  after removing the cwd from sys.path.\n",
            "/usr/local/lib/python3.7/dist-packages/ipykernel_launcher.py:5: FutureWarning: The default value of regex will change from True to False in a future version.\n",
            "  \"\"\"\n",
            "/usr/local/lib/python3.7/dist-packages/ipykernel_launcher.py:6: FutureWarning: The default value of regex will change from True to False in a future version.\n",
            "  \n"
          ]
        },
        {
          "output_type": "stream",
          "name": "stdout",
          "text": [
            "<class 'pandas.core.frame.DataFrame'>\n",
            "RangeIndex: 125370 entries, 0 to 125369\n",
            "Data columns (total 20 columns):\n",
            " #   Column   Non-Null Count   Dtype         \n",
            "---  ------   --------------   -----         \n",
            " 0   1        125370 non-null  int64         \n",
            " 1   2        125370 non-null  object        \n",
            " 2   dt       125370 non-null  datetime64[ns]\n",
            " 3   id       125370 non-null  object        \n",
            " 4   age      125370 non-null  int64         \n",
            " 5   person   87740 non-null   object        \n",
            " 6   address  69793 non-null   object        \n",
            " 7   porod    115018 non-null  object        \n",
            " 8   type     125098 non-null  object        \n",
            " 9   stat     120171 non-null  object        \n",
            " 10  diag     122398 non-null  object        \n",
            " 11  result   125283 non-null  object        \n",
            " 12  state    125313 non-null  object        \n",
            " 13  base     125362 non-null  object        \n",
            " 14  first    125370 non-null  object        \n",
            " 15  last     124960 non-null  object        \n",
            " 16  hour     125370 non-null  float64       \n",
            " 17  month    125370 non-null  int64         \n",
            " 18  weekday  125370 non-null  int64         \n",
            " 19  week     125370 non-null  UInt32        \n",
            "dtypes: UInt32(1), datetime64[ns](1), float64(1), int64(4), object(13)\n",
            "memory usage: 18.8+ MB\n"
          ]
        }
      ]
    },
    {
      "cell_type": "code",
      "source": [
        "df[df['weekday'].isna()]"
      ],
      "metadata": {
        "colab": {
          "base_uri": "https://localhost:8080/",
          "height": 79
        },
        "id": "4eXqIIyQfqfb",
        "outputId": "372bc42c-e651-4f2a-da00-78b9b7b3b0a8"
      },
      "execution_count": null,
      "outputs": [
        {
          "output_type": "execute_result",
          "data": {
            "text/plain": [
              "Empty DataFrame\n",
              "Columns: [1, 2, dt, id, age, person, address, porod, type, stat, diag, result, state, base, first, last, hour, month, weekday, week, diff]\n",
              "Index: []\n",
              "\n",
              "[0 rows x 21 columns]"
            ],
            "text/html": [
              "\n",
              "  <div id=\"df-f7ed89e3-0b67-42dd-a3e9-4ca935050b0e\">\n",
              "    <div class=\"colab-df-container\">\n",
              "      <div>\n",
              "<style scoped>\n",
              "    .dataframe tbody tr th:only-of-type {\n",
              "        vertical-align: middle;\n",
              "    }\n",
              "\n",
              "    .dataframe tbody tr th {\n",
              "        vertical-align: top;\n",
              "    }\n",
              "\n",
              "    .dataframe thead th {\n",
              "        text-align: right;\n",
              "    }\n",
              "</style>\n",
              "<table border=\"1\" class=\"dataframe\">\n",
              "  <thead>\n",
              "    <tr style=\"text-align: right;\">\n",
              "      <th></th>\n",
              "      <th>1</th>\n",
              "      <th>2</th>\n",
              "      <th>dt</th>\n",
              "      <th>id</th>\n",
              "      <th>age</th>\n",
              "      <th>person</th>\n",
              "      <th>address</th>\n",
              "      <th>porod</th>\n",
              "      <th>type</th>\n",
              "      <th>stat</th>\n",
              "      <th>...</th>\n",
              "      <th>result</th>\n",
              "      <th>state</th>\n",
              "      <th>base</th>\n",
              "      <th>first</th>\n",
              "      <th>last</th>\n",
              "      <th>hour</th>\n",
              "      <th>month</th>\n",
              "      <th>weekday</th>\n",
              "      <th>week</th>\n",
              "      <th>diff</th>\n",
              "    </tr>\n",
              "  </thead>\n",
              "  <tbody>\n",
              "  </tbody>\n",
              "</table>\n",
              "<p>0 rows × 21 columns</p>\n",
              "</div>\n",
              "      <button class=\"colab-df-convert\" onclick=\"convertToInteractive('df-f7ed89e3-0b67-42dd-a3e9-4ca935050b0e')\"\n",
              "              title=\"Convert this dataframe to an interactive table.\"\n",
              "              style=\"display:none;\">\n",
              "        \n",
              "  <svg xmlns=\"http://www.w3.org/2000/svg\" height=\"24px\"viewBox=\"0 0 24 24\"\n",
              "       width=\"24px\">\n",
              "    <path d=\"M0 0h24v24H0V0z\" fill=\"none\"/>\n",
              "    <path d=\"M18.56 5.44l.94 2.06.94-2.06 2.06-.94-2.06-.94-.94-2.06-.94 2.06-2.06.94zm-11 1L8.5 8.5l.94-2.06 2.06-.94-2.06-.94L8.5 2.5l-.94 2.06-2.06.94zm10 10l.94 2.06.94-2.06 2.06-.94-2.06-.94-.94-2.06-.94 2.06-2.06.94z\"/><path d=\"M17.41 7.96l-1.37-1.37c-.4-.4-.92-.59-1.43-.59-.52 0-1.04.2-1.43.59L10.3 9.45l-7.72 7.72c-.78.78-.78 2.05 0 2.83L4 21.41c.39.39.9.59 1.41.59.51 0 1.02-.2 1.41-.59l7.78-7.78 2.81-2.81c.8-.78.8-2.07 0-2.86zM5.41 20L4 18.59l7.72-7.72 1.47 1.35L5.41 20z\"/>\n",
              "  </svg>\n",
              "      </button>\n",
              "      \n",
              "  <style>\n",
              "    .colab-df-container {\n",
              "      display:flex;\n",
              "      flex-wrap:wrap;\n",
              "      gap: 12px;\n",
              "    }\n",
              "\n",
              "    .colab-df-convert {\n",
              "      background-color: #E8F0FE;\n",
              "      border: none;\n",
              "      border-radius: 50%;\n",
              "      cursor: pointer;\n",
              "      display: none;\n",
              "      fill: #1967D2;\n",
              "      height: 32px;\n",
              "      padding: 0 0 0 0;\n",
              "      width: 32px;\n",
              "    }\n",
              "\n",
              "    .colab-df-convert:hover {\n",
              "      background-color: #E2EBFA;\n",
              "      box-shadow: 0px 1px 2px rgba(60, 64, 67, 0.3), 0px 1px 3px 1px rgba(60, 64, 67, 0.15);\n",
              "      fill: #174EA6;\n",
              "    }\n",
              "\n",
              "    [theme=dark] .colab-df-convert {\n",
              "      background-color: #3B4455;\n",
              "      fill: #D2E3FC;\n",
              "    }\n",
              "\n",
              "    [theme=dark] .colab-df-convert:hover {\n",
              "      background-color: #434B5C;\n",
              "      box-shadow: 0px 1px 3px 1px rgba(0, 0, 0, 0.15);\n",
              "      filter: drop-shadow(0px 1px 2px rgba(0, 0, 0, 0.3));\n",
              "      fill: #FFFFFF;\n",
              "    }\n",
              "  </style>\n",
              "\n",
              "      <script>\n",
              "        const buttonEl =\n",
              "          document.querySelector('#df-f7ed89e3-0b67-42dd-a3e9-4ca935050b0e button.colab-df-convert');\n",
              "        buttonEl.style.display =\n",
              "          google.colab.kernel.accessAllowed ? 'block' : 'none';\n",
              "\n",
              "        async function convertToInteractive(key) {\n",
              "          const element = document.querySelector('#df-f7ed89e3-0b67-42dd-a3e9-4ca935050b0e');\n",
              "          const dataTable =\n",
              "            await google.colab.kernel.invokeFunction('convertToInteractive',\n",
              "                                                     [key], {});\n",
              "          if (!dataTable) return;\n",
              "\n",
              "          const docLinkHtml = 'Like what you see? Visit the ' +\n",
              "            '<a target=\"_blank\" href=https://colab.research.google.com/notebooks/data_table.ipynb>data table notebook</a>'\n",
              "            + ' to learn more about interactive tables.';\n",
              "          element.innerHTML = '';\n",
              "          dataTable['output_type'] = 'display_data';\n",
              "          await google.colab.output.renderOutput(dataTable, element);\n",
              "          const docLink = document.createElement('div');\n",
              "          docLink.innerHTML = docLinkHtml;\n",
              "          element.appendChild(docLink);\n",
              "        }\n",
              "      </script>\n",
              "    </div>\n",
              "  </div>\n",
              "  "
            ]
          },
          "metadata": {},
          "execution_count": 166
        }
      ]
    },
    {
      "cell_type": "code",
      "source": [
        "# df=df.sort_values(by = 'dt').reset_index(drop=True)"
      ],
      "metadata": {
        "id": "rzkkCRlhloEo"
      },
      "execution_count": null,
      "outputs": []
    },
    {
      "cell_type": "code",
      "source": [
        "df['hour'].hist()"
      ],
      "metadata": {
        "colab": {
          "base_uri": "https://localhost:8080/",
          "height": 283
        },
        "id": "maSc9DVOyShW",
        "outputId": "1d14e2a2-a99d-4aa6-8dd1-80f59bb27b5a"
      },
      "execution_count": null,
      "outputs": [
        {
          "output_type": "execute_result",
          "data": {
            "text/plain": [
              "<matplotlib.axes._subplots.AxesSubplot at 0x7f2a6c342c50>"
            ]
          },
          "metadata": {},
          "execution_count": 176
        },
        {
          "output_type": "display_data",
          "data": {
            "text/plain": [
              "<Figure size 432x288 with 1 Axes>"
            ],
            "image/png": "[encoded data removed]"
          },
          "metadata": {
            "needs_background": "light"
          }
        }
      ]
    },
    {
      "cell_type": "code",
      "source": [
        "df.to_csv('final_2022_125.csv', index = False)"
      ],
      "metadata": {
        "id": "Gey76pz7tjku"
      },
      "execution_count": null,
      "outputs": []
    },
    {
      "cell_type": "code",
      "source": [
        "!zip final_2022_125.zip final_2022_125.csv"
      ],
      "metadata": {
        "colab": {
          "base_uri": "https://localhost:8080/"
        },
        "id": "D1e8zoepk9JK",
        "outputId": "c7659182-37a6-46b0-81f6-1748170c5e66"
      },
      "execution_count": null,
      "outputs": [
        {
          "output_type": "stream",
          "name": "stdout",
          "text": [
            "  adding: final_2022_125.csv (deflated 90%)\n"
          ]
        }
      ]
    },
    {
      "cell_type": "code",
      "source": [
        "\n",
        "df"
      ],
      "metadata": {
        "colab": {
          "base_uri": "https://localhost:8080/",
          "height": 1000
        },
        "id": "Jy79nLCbyo4C",
        "outputId": "5bfa4cf7-61d8-458e-bd79-f7d7e7db9f0b"
      },
      "execution_count": null,
      "outputs": [
        {
          "output_type": "execute_result",
          "data": {
            "text/plain": [
              "            1        2         dt          id  age  \\\n",
              "0           3  01-2020 2020-01-01        8(8)   26   \n",
              "1          74  01-2020 2020-01-01      92(92)    0   \n",
              "2          63  01-2020 2020-01-01      87(87)   61   \n",
              "3          57  01-2020 2020-01-01      77(77)   15   \n",
              "4          51  01-2020 2020-01-01      69(69)   24   \n",
              "...       ...      ...        ...         ...  ...   \n",
              "125365  13109  05-2022 2022-05-10     6247(3)    2   \n",
              "125366  13115  05-2022 2022-05-10     1312(2)   73   \n",
              "125367  13121  05-2022 2022-05-10  157091(35)   96   \n",
              "125368  13067  05-2022 2022-05-10    13125(3)   27   \n",
              "125369  13816  05-2022 2022-05-10  28040(107)   68   \n",
              "\n",
              "                                              person  \\\n",
              "0       родственник, проживающий совместно с больным   \n",
              "1       родственник, проживающий совместно с больным   \n",
              "2       родственник, проживающий совместно с больным   \n",
              "3       родственник, проживающий совместно с больным   \n",
              "4       родственник, проживающий совместно с больным   \n",
              "...                                              ...   \n",
              "125365  родственник, проживающий совместно с больным   \n",
              "125366                      больной или пострадавший   \n",
              "125367  родственник, проживающий совместно с больным   \n",
              "125368  родственник, проживающий совместно с больным   \n",
              "125369                                           NaN   \n",
              "\n",
              "                                      address  \\\n",
              "0                                         NaN   \n",
              "1                                         NaN   \n",
              "2                                         NaN   \n",
              "3                                         NaN   \n",
              "4                                         NaN   \n",
              "...                                       ...   \n",
              "125365                                    NaN   \n",
              "125366            рп.Гремячево, ул. Мира, д.4   \n",
              "125367                                    NaN   \n",
              "125368                                    NaN   \n",
              "125369  г.Дзержинск, ул. Чапаева, д.78, кв***   \n",
              "\n",
              "                                                 porod       type  \\\n",
              "0                                Температура, взрослый  Первичный   \n",
              "1       Температура, ребенок >1 года, других жалоб нет  Первичный   \n",
              "2            Высокое ад, головная боль, тошнота, рвота  Первичный   \n",
              "3                                Температура, взрослый  Первичный   \n",
              "4                                Температура, взрослый  Первичный   \n",
              "...                                                ...        ...   \n",
              "125365                      Болит ухо, горло у ребенка  Первичный   \n",
              "125366                          Болит живот (взрослый)  Первичный   \n",
              "125367                         Кровотечение без травмы  Первичный   \n",
              "125368                           Температура, взрослый  Первичный   \n",
              "125369          Задыхается, приступ бронхиальной астмы  Первичный   \n",
              "\n",
              "                         stat                                            diag  \\\n",
              "0        неотложное состояние                  ОРВИ. Гипертермический синдром   \n",
              "1       внезапное заболевание                  ОРВИ. Гипертермический синдром   \n",
              "2        неотложное состояние  Гипертоническая болезнь. Гипертонический криз.   \n",
              "3        неотложное состояние                  ОРВИ. Гипертермический синдром   \n",
              "4        неотложное состояние                  ОРВИ. Гипертермический синдром   \n",
              "...                       ...                                             ...   \n",
              "125365   неотложное состояние                                            ОРВИ   \n",
              "125366   неотложное состояние     Мочекаменная болезнь - МКБ. Почечная колика   \n",
              "125367  внезапное заболевание                  Дисциркуляторная энцефалопатия   \n",
              "125368   неотложное состояние                 COVID-19, вирус идентифицирован   \n",
              "125369  внезапное заболевание                              Бронхиальная астма   \n",
              "\n",
              "                                                   result  \\\n",
              "0               оказана помощь, больной оставлен на месте   \n",
              "1       отказ от транспортировки для госпитализации в ...   \n",
              "2               оказана помощь, больной оставлен на месте   \n",
              "3       отказ от транспортировки для госпитализации в ...   \n",
              "4       отказ от транспортировки для госпитализации в ...   \n",
              "...                                                   ...   \n",
              "125365          оказана помощь, больной оставлен на месте   \n",
              "125366          оказана помощь, больной оставлен на месте   \n",
              "125367          оказана помощь, больной оставлен на месте   \n",
              "125368          оказана помощь, больной оставлен на месте   \n",
              "125369          оказана помощь, больной оставлен на месте   \n",
              "\n",
              "                                                    state  \\\n",
              "0       ГБУЗ НО \"Городская поликлиника №7\" (ул. Верхне...   \n",
              "1       ГБУЗ НО \"Детская городская поликлиника №22\" (у...   \n",
              "2       ГБУЗ НО \"Городская поликлиника №7\" (ул. Турген...   \n",
              "3       ГБУЗ НО \"Детская городская поликлиника №48\" (у...   \n",
              "4       ГБУЗ НО \"Городская клиническая больница №34\" П...   \n",
              "...                                                   ...   \n",
              "125365  ГБУЗ НО \"Володарская центральная районная боль...   \n",
              "125366  ГБУЗ НО \"Кулебакская центральная районная боль...   \n",
              "125367  ГБУЗ НО \"Городская клиническая больница №38\" П...   \n",
              "125368  ГБУЗ НО \"Кстовская центральная районная больни...   \n",
              "125369  Поликлиника №1 Городская больница №2, Красноар...   \n",
              "\n",
              "                                 base     first      last  hour  month  \\\n",
              "0                             ПСМП №7  09:46:15  09:52:22   9.0      1   \n",
              "1                             ПСМП №7  23:32:28  23:34:27  23.0      1   \n",
              "2                             ПСМП №7  22:41:22  22:41:38  22.0      1   \n",
              "3                             ПСМП №7  21:15:31  21:26:15  21.0      1   \n",
              "4                             ПСМП №7  19:59:30  20:11:02  19.0      1   \n",
              "...                               ...       ...       ...   ...    ...   \n",
              "125365  Володарская ЦРБ Ильиногорская  08:50:27  08:53:06   8.0      5   \n",
              "125366                Кулебакская ЦРБ  08:47:41  08:50:00   8.0      5   \n",
              "125367                        ПСМП №5  08:49:25  08:55:14   8.0      5   \n",
              "125368                  Кстовская ЦРБ  09:09:09  09:15:24   9.0      5   \n",
              "125369  БСМП г. Дзержинск Центральная  19:01:36  19:14:50  19.0      5   \n",
              "\n",
              "        weekday  week  \n",
              "0             3     1  \n",
              "1             3     1  \n",
              "2             3     1  \n",
              "3             3     1  \n",
              "4             3     1  \n",
              "...         ...   ...  \n",
              "125365        2    19  \n",
              "125366        2    19  \n",
              "125367        2    19  \n",
              "125368        2    19  \n",
              "125369        2    19  \n",
              "\n",
              "[125370 rows x 20 columns]"
            ],
            "text/html": [
              "\n",
              "  <div id=\"df-a003f122-bf2f-406a-bb0e-6022d065d5a1\">\n",
              "    <div class=\"colab-df-container\">\n",
              "      <div>\n",
              "<style scoped>\n",
              "    .dataframe tbody tr th:only-of-type {\n",
              "        vertical-align: middle;\n",
              "    }\n",
              "\n",
              "    .dataframe tbody tr th {\n",
              "        vertical-align: top;\n",
              "    }\n",
              "\n",
              "    .dataframe thead th {\n",
              "        text-align: right;\n",
              "    }\n",
              "</style>\n",
              "<table border=\"1\" class=\"dataframe\">\n",
              "  <thead>\n",
              "    <tr style=\"text-align: right;\">\n",
              "      <th></th>\n",
              "      <th>1</th>\n",
              "      <th>2</th>\n",
              "      <th>dt</th>\n",
              "      <th>id</th>\n",
              "      <th>age</th>\n",
              "      <th>person</th>\n",
              "      <th>address</th>\n",
              "      <th>porod</th>\n",
              "      <th>type</th>\n",
              "      <th>stat</th>\n",
              "      <th>diag</th>\n",
              "      <th>result</th>\n",
              "      <th>state</th>\n",
              "      <th>base</th>\n",
              "      <th>first</th>\n",
              "      <th>last</th>\n",
              "      <th>hour</th>\n",
              "      <th>month</th>\n",
              "      <th>weekday</th>\n",
              "      <th>week</th>\n",
              "    </tr>\n",
              "  </thead>\n",
              "  <tbody>\n",
              "    <tr>\n",
              "      <th>0</th>\n",
              "      <td>3</td>\n",
              "      <td>01-2020</td>\n",
              "      <td>2020-01-01</td>\n",
              "      <td>8(8)</td>\n",
              "      <td>26</td>\n",
              "      <td>родственник, проживающий совместно с больным</td>\n",
              "      <td>NaN</td>\n",
              "      <td>Температура, взрослый</td>\n",
              "      <td>Первичный</td>\n",
              "      <td>неотложное состояние</td>\n",
              "      <td>ОРВИ. Гипертермический синдром</td>\n",
              "      <td>оказана помощь, больной оставлен на месте</td>\n",
              "      <td>ГБУЗ НО \"Городская поликлиника №7\" (ул. Верхне...</td>\n",
              "      <td>ПСМП №7</td>\n",
              "      <td>09:46:15</td>\n",
              "      <td>09:52:22</td>\n",
              "      <td>9.0</td>\n",
              "      <td>1</td>\n",
              "      <td>3</td>\n",
              "      <td>1</td>\n",
              "    </tr>\n",
              "    <tr>\n",
              "      <th>1</th>\n",
              "      <td>74</td>\n",
              "      <td>01-2020</td>\n",
              "      <td>2020-01-01</td>\n",
              "      <td>92(92)</td>\n",
              "      <td>0</td>\n",
              "      <td>родственник, проживающий совместно с больным</td>\n",
              "      <td>NaN</td>\n",
              "      <td>Температура, ребенок &gt;1 года, других жалоб нет</td>\n",
              "      <td>Первичный</td>\n",
              "      <td>внезапное заболевание</td>\n",
              "      <td>ОРВИ. Гипертермический синдром</td>\n",
              "      <td>отказ от транспортировки для госпитализации в ...</td>\n",
              "      <td>ГБУЗ НО \"Детская городская поликлиника №22\" (у...</td>\n",
              "      <td>ПСМП №7</td>\n",
              "      <td>23:32:28</td>\n",
              "      <td>23:34:27</td>\n",
              "      <td>23.0</td>\n",
              "      <td>1</td>\n",
              "      <td>3</td>\n",
              "      <td>1</td>\n",
              "    </tr>\n",
              "    <tr>\n",
              "      <th>2</th>\n",
              "      <td>63</td>\n",
              "      <td>01-2020</td>\n",
              "      <td>2020-01-01</td>\n",
              "      <td>87(87)</td>\n",
              "      <td>61</td>\n",
              "      <td>родственник, проживающий совместно с больным</td>\n",
              "      <td>NaN</td>\n",
              "      <td>Высокое ад, головная боль, тошнота, рвота</td>\n",
              "      <td>Первичный</td>\n",
              "      <td>неотложное состояние</td>\n",
              "      <td>Гипертоническая болезнь. Гипертонический криз.</td>\n",
              "      <td>оказана помощь, больной оставлен на месте</td>\n",
              "      <td>ГБУЗ НО \"Городская поликлиника №7\" (ул. Турген...</td>\n",
              "      <td>ПСМП №7</td>\n",
              "      <td>22:41:22</td>\n",
              "      <td>22:41:38</td>\n",
              "      <td>22.0</td>\n",
              "      <td>1</td>\n",
              "      <td>3</td>\n",
              "      <td>1</td>\n",
              "    </tr>\n",
              "    <tr>\n",
              "      <th>3</th>\n",
              "      <td>57</td>\n",
              "      <td>01-2020</td>\n",
              "      <td>2020-01-01</td>\n",
              "      <td>77(77)</td>\n",
              "      <td>15</td>\n",
              "      <td>родственник, проживающий совместно с больным</td>\n",
              "      <td>NaN</td>\n",
              "      <td>Температура, взрослый</td>\n",
              "      <td>Первичный</td>\n",
              "      <td>неотложное состояние</td>\n",
              "      <td>ОРВИ. Гипертермический синдром</td>\n",
              "      <td>отказ от транспортировки для госпитализации в ...</td>\n",
              "      <td>ГБУЗ НО \"Детская городская поликлиника №48\" (у...</td>\n",
              "      <td>ПСМП №7</td>\n",
              "      <td>21:15:31</td>\n",
              "      <td>21:26:15</td>\n",
              "      <td>21.0</td>\n",
              "      <td>1</td>\n",
              "      <td>3</td>\n",
              "      <td>1</td>\n",
              "    </tr>\n",
              "    <tr>\n",
              "      <th>4</th>\n",
              "      <td>51</td>\n",
              "      <td>01-2020</td>\n",
              "      <td>2020-01-01</td>\n",
              "      <td>69(69)</td>\n",
              "      <td>24</td>\n",
              "      <td>родственник, проживающий совместно с больным</td>\n",
              "      <td>NaN</td>\n",
              "      <td>Температура, взрослый</td>\n",
              "      <td>Первичный</td>\n",
              "      <td>неотложное состояние</td>\n",
              "      <td>ОРВИ. Гипертермический синдром</td>\n",
              "      <td>отказ от транспортировки для госпитализации в ...</td>\n",
              "      <td>ГБУЗ НО \"Городская клиническая больница №34\" П...</td>\n",
              "      <td>ПСМП №7</td>\n",
              "      <td>19:59:30</td>\n",
              "      <td>20:11:02</td>\n",
              "      <td>19.0</td>\n",
              "      <td>1</td>\n",
              "      <td>3</td>\n",
              "      <td>1</td>\n",
              "    </tr>\n",
              "    <tr>\n",
              "      <th>...</th>\n",
              "      <td>...</td>\n",
              "      <td>...</td>\n",
              "      <td>...</td>\n",
              "      <td>...</td>\n",
              "      <td>...</td>\n",
              "      <td>...</td>\n",
              "      <td>...</td>\n",
              "      <td>...</td>\n",
              "      <td>...</td>\n",
              "      <td>...</td>\n",
              "      <td>...</td>\n",
              "      <td>...</td>\n",
              "      <td>...</td>\n",
              "      <td>...</td>\n",
              "      <td>...</td>\n",
              "      <td>...</td>\n",
              "      <td>...</td>\n",
              "      <td>...</td>\n",
              "      <td>...</td>\n",
              "      <td>...</td>\n",
              "    </tr>\n",
              "    <tr>\n",
              "      <th>125365</th>\n",
              "      <td>13109</td>\n",
              "      <td>05-2022</td>\n",
              "      <td>2022-05-10</td>\n",
              "      <td>6247(3)</td>\n",
              "      <td>2</td>\n",
              "      <td>родственник, проживающий совместно с больным</td>\n",
              "      <td>NaN</td>\n",
              "      <td>Болит ухо, горло у ребенка</td>\n",
              "      <td>Первичный</td>\n",
              "      <td>неотложное состояние</td>\n",
              "      <td>ОРВИ</td>\n",
              "      <td>оказана помощь, больной оставлен на месте</td>\n",
              "      <td>ГБУЗ НО \"Володарская центральная районная боль...</td>\n",
              "      <td>Володарская ЦРБ Ильиногорская</td>\n",
              "      <td>08:50:27</td>\n",
              "      <td>08:53:06</td>\n",
              "      <td>8.0</td>\n",
              "      <td>5</td>\n",
              "      <td>2</td>\n",
              "      <td>19</td>\n",
              "    </tr>\n",
              "    <tr>\n",
              "      <th>125366</th>\n",
              "      <td>13115</td>\n",
              "      <td>05-2022</td>\n",
              "      <td>2022-05-10</td>\n",
              "      <td>1312(2)</td>\n",
              "      <td>73</td>\n",
              "      <td>больной или пострадавший</td>\n",
              "      <td>рп.Гремячево, ул. Мира, д.4</td>\n",
              "      <td>Болит живот (взрослый)</td>\n",
              "      <td>Первичный</td>\n",
              "      <td>неотложное состояние</td>\n",
              "      <td>Мочекаменная болезнь - МКБ. Почечная колика</td>\n",
              "      <td>оказана помощь, больной оставлен на месте</td>\n",
              "      <td>ГБУЗ НО \"Кулебакская центральная районная боль...</td>\n",
              "      <td>Кулебакская ЦРБ</td>\n",
              "      <td>08:47:41</td>\n",
              "      <td>08:50:00</td>\n",
              "      <td>8.0</td>\n",
              "      <td>5</td>\n",
              "      <td>2</td>\n",
              "      <td>19</td>\n",
              "    </tr>\n",
              "    <tr>\n",
              "      <th>125367</th>\n",
              "      <td>13121</td>\n",
              "      <td>05-2022</td>\n",
              "      <td>2022-05-10</td>\n",
              "      <td>157091(35)</td>\n",
              "      <td>96</td>\n",
              "      <td>родственник, проживающий совместно с больным</td>\n",
              "      <td>NaN</td>\n",
              "      <td>Кровотечение без травмы</td>\n",
              "      <td>Первичный</td>\n",
              "      <td>внезапное заболевание</td>\n",
              "      <td>Дисциркуляторная энцефалопатия</td>\n",
              "      <td>оказана помощь, больной оставлен на месте</td>\n",
              "      <td>ГБУЗ НО \"Городская клиническая больница №38\" П...</td>\n",
              "      <td>ПСМП №5</td>\n",
              "      <td>08:49:25</td>\n",
              "      <td>08:55:14</td>\n",
              "      <td>8.0</td>\n",
              "      <td>5</td>\n",
              "      <td>2</td>\n",
              "      <td>19</td>\n",
              "    </tr>\n",
              "    <tr>\n",
              "      <th>125368</th>\n",
              "      <td>13067</td>\n",
              "      <td>05-2022</td>\n",
              "      <td>2022-05-10</td>\n",
              "      <td>13125(3)</td>\n",
              "      <td>27</td>\n",
              "      <td>родственник, проживающий совместно с больным</td>\n",
              "      <td>NaN</td>\n",
              "      <td>Температура, взрослый</td>\n",
              "      <td>Первичный</td>\n",
              "      <td>неотложное состояние</td>\n",
              "      <td>COVID-19, вирус идентифицирован</td>\n",
              "      <td>оказана помощь, больной оставлен на месте</td>\n",
              "      <td>ГБУЗ НО \"Кстовская центральная районная больни...</td>\n",
              "      <td>Кстовская ЦРБ</td>\n",
              "      <td>09:09:09</td>\n",
              "      <td>09:15:24</td>\n",
              "      <td>9.0</td>\n",
              "      <td>5</td>\n",
              "      <td>2</td>\n",
              "      <td>19</td>\n",
              "    </tr>\n",
              "    <tr>\n",
              "      <th>125369</th>\n",
              "      <td>13816</td>\n",
              "      <td>05-2022</td>\n",
              "      <td>2022-05-10</td>\n",
              "      <td>28040(107)</td>\n",
              "      <td>68</td>\n",
              "      <td>NaN</td>\n",
              "      <td>г.Дзержинск, ул. Чапаева, д.78, кв***</td>\n",
              "      <td>Задыхается, приступ бронхиальной астмы</td>\n",
              "      <td>Первичный</td>\n",
              "      <td>внезапное заболевание</td>\n",
              "      <td>Бронхиальная астма</td>\n",
              "      <td>оказана помощь, больной оставлен на месте</td>\n",
              "      <td>Поликлиника №1 Городская больница №2, Красноар...</td>\n",
              "      <td>БСМП г. Дзержинск Центральная</td>\n",
              "      <td>19:01:36</td>\n",
              "      <td>19:14:50</td>\n",
              "      <td>19.0</td>\n",
              "      <td>5</td>\n",
              "      <td>2</td>\n",
              "      <td>19</td>\n",
              "    </tr>\n",
              "  </tbody>\n",
              "</table>\n",
              "<p>125370 rows × 20 columns</p>\n",
              "</div>\n",
              "      <button class=\"colab-df-convert\" onclick=\"convertToInteractive('df-a003f122-bf2f-406a-bb0e-6022d065d5a1')\"\n",
              "              title=\"Convert this dataframe to an interactive table.\"\n",
              "              style=\"display:none;\">\n",
              "        \n",
              "  <svg xmlns=\"http://www.w3.org/2000/svg\" height=\"24px\"viewBox=\"0 0 24 24\"\n",
              "       width=\"24px\">\n",
              "    <path d=\"M0 0h24v24H0V0z\" fill=\"none\"/>\n",
              "    <path d=\"M18.56 5.44l.94 2.06.94-2.06 2.06-.94-2.06-.94-.94-2.06-.94 2.06-2.06.94zm-11 1L8.5 8.5l.94-2.06 2.06-.94-2.06-.94L8.5 2.5l-.94 2.06-2.06.94zm10 10l.94 2.06.94-2.06 2.06-.94-2.06-.94-.94-2.06-.94 2.06-2.06.94z\"/><path d=\"M17.41 7.96l-1.37-1.37c-.4-.4-.92-.59-1.43-.59-.52 0-1.04.2-1.43.59L10.3 9.45l-7.72 7.72c-.78.78-.78 2.05 0 2.83L4 21.41c.39.39.9.59 1.41.59.51 0 1.02-.2 1.41-.59l7.78-7.78 2.81-2.81c.8-.78.8-2.07 0-2.86zM5.41 20L4 18.59l7.72-7.72 1.47 1.35L5.41 20z\"/>\n",
              "  </svg>\n",
              "      </button>\n",
              "      \n",
              "  <style>\n",
              "    .colab-df-container {\n",
              "      display:flex;\n",
              "      flex-wrap:wrap;\n",
              "      gap: 12px;\n",
              "    }\n",
              "\n",
              "    .colab-df-convert {\n",
              "      background-color: #E8F0FE;\n",
              "      border: none;\n",
              "      border-radius: 50%;\n",
              "      cursor: pointer;\n",
              "      display: none;\n",
              "      fill: #1967D2;\n",
              "      height: 32px;\n",
              "      padding: 0 0 0 0;\n",
              "      width: 32px;\n",
              "    }\n",
              "\n",
              "    .colab-df-convert:hover {\n",
              "      background-color: #E2EBFA;\n",
              "      box-shadow: 0px 1px 2px rgba(60, 64, 67, 0.3), 0px 1px 3px 1px rgba(60, 64, 67, 0.15);\n",
              "      fill: #174EA6;\n",
              "    }\n",
              "\n",
              "    [theme=dark] .colab-df-convert {\n",
              "      background-color: #3B4455;\n",
              "      fill: #D2E3FC;\n",
              "    }\n",
              "\n",
              "    [theme=dark] .colab-df-convert:hover {\n",
              "      background-color: #434B5C;\n",
              "      box-shadow: 0px 1px 3px 1px rgba(0, 0, 0, 0.15);\n",
              "      filter: drop-shadow(0px 1px 2px rgba(0, 0, 0, 0.3));\n",
              "      fill: #FFFFFF;\n",
              "    }\n",
              "  </style>\n",
              "\n",
              "      <script>\n",
              "        const buttonEl =\n",
              "          document.querySelector('#df-a003f122-bf2f-406a-bb0e-6022d065d5a1 button.colab-df-convert');\n",
              "        buttonEl.style.display =\n",
              "          google.colab.kernel.accessAllowed ? 'block' : 'none';\n",
              "\n",
              "        async function convertToInteractive(key) {\n",
              "          const element = document.querySelector('#df-a003f122-bf2f-406a-bb0e-6022d065d5a1');\n",
              "          const dataTable =\n",
              "            await google.colab.kernel.invokeFunction('convertToInteractive',\n",
              "                                                     [key], {});\n",
              "          if (!dataTable) return;\n",
              "\n",
              "          const docLinkHtml = 'Like what you see? Visit the ' +\n",
              "            '<a target=\"_blank\" href=https://colab.research.google.com/notebooks/data_table.ipynb>data table notebook</a>'\n",
              "            + ' to learn more about interactive tables.';\n",
              "          element.innerHTML = '';\n",
              "          dataTable['output_type'] = 'display_data';\n",
              "          await google.colab.output.renderOutput(dataTable, element);\n",
              "          const docLink = document.createElement('div');\n",
              "          docLink.innerHTML = docLinkHtml;\n",
              "          element.appendChild(docLink);\n",
              "        }\n",
              "      </script>\n",
              "    </div>\n",
              "  </div>\n",
              "  "
            ]
          },
          "metadata": {},
          "execution_count": 179
        }
      ]
    },
    {
      "cell_type": "code",
      "source": [
        "df['age'].hist()"
      ],
      "metadata": {
        "colab": {
          "base_uri": "https://localhost:8080/",
          "height": 283
        },
        "id": "mRu_3TjZYdO3",
        "outputId": "8aef4030-8163-41b4-afb7-0afdfaaf81ea"
      },
      "execution_count": null,
      "outputs": [
        {
          "output_type": "execute_result",
          "data": {
            "text/plain": [
              "<matplotlib.axes._subplots.AxesSubplot at 0x7f2a6c3a6f50>"
            ]
          },
          "metadata": {},
          "execution_count": 173
        },
        {
          "output_type": "display_data",
          "data": {
            "text/plain": [
              "<Figure size 432x288 with 1 Axes>"
            ],
            "image/png": "[encoded data removed]"
          },
          "metadata": {
            "needs_background": "light"
          }
        }
      ]
    },
    {
      "cell_type": "code",
      "source": [
        "# https://drive.google.com/file/d/15pzbqT71f1lkisu0wZilr4KgfD2B54pK/view?usp=sharing"
      ],
      "metadata": {
        "id": "m1dp0nMlD1Zl"
      },
      "execution_count": null,
      "outputs": []
    }
  ]
}