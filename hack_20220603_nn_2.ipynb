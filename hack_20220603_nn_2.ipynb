{
  "nbformat": 4,
  "nbformat_minor": 0,
  "metadata": {
    "colab": {
      "name": "hack_20220603_nn_2.ipynb",
      "provenance": []
    },
    "kernelspec": {
      "name": "python3",
      "display_name": "Python 3"
    },
    "language_info": {
      "name": "python"
    }
  },
  "cells": [
    {
      "cell_type": "markdown",
      "source": [
        "# Настройка"
      ],
      "metadata": {
        "id": "fqkpQ6s99rLf"
      }
    },
    {
      "cell_type": "code",
      "source": [
        "import sys\n",
        "ENV_COLAB = 'google.colab' in sys.modules\n",
        "\n",
        "if ENV_COLAB:\n",
        "\n",
        "    !pip install catboost\n",
        "    !pip install ipywidgets\n",
        "    !jupyter nbextension enable --py widgetsnbextension\n",
        "\n",
        "    print('Environment: Google Colab')\n",
        "!pip install shap"
      ],
      "metadata": {
        "id": "3bu--udxEZPH"
      },
      "execution_count": null,
      "outputs": []
    },
    {
      "cell_type": "code",
      "execution_count": null,
      "metadata": {
        "colab": {
          "base_uri": "https://localhost:8080/"
        },
        "id": "rWw75Rb6jOsD",
        "outputId": "6ffe853e-e8be-40d3-a01f-769de5e6c04e"
      },
      "outputs": [
        {
          "output_type": "stream",
          "name": "stdout",
          "text": [
            "Drive already mounted at /content/drive; to attempt to forcibly remount, call drive.mount(\"/content/drive\", force_remount=True).\n"
          ]
        }
      ],
      "source": [
        "import numpy as np\n",
        "import pandas as pd\n",
        "from catboost import CatBoostRegressor\n",
        "from sklearn.metrics import mean_squared_log_error\n",
        "\n",
        "from datetime import datetime\n",
        "import datetime, os\n",
        "\n",
        "import pickle\n",
        "import matplotlib.pyplot as plt\n",
        "%matplotlib inline \n",
        "from tqdm import tqdm\n",
        "\n",
        "np.random.seed(2021)\n",
        "from google.colab import drive\n",
        "drive.mount('/content/drive')"
      ]
    },
    {
      "cell_type": "code",
      "source": [
        "zfile = 'drive/MyDrive/Study/final_2022_125.zip'\n",
        "!unzip $zfile"
      ],
      "metadata": {
        "colab": {
          "base_uri": "https://localhost:8080/"
        },
        "id": "Dv9VqwaYjep2",
        "outputId": "c2eac22f-172b-4409-aca2-378e6ac84e30"
      },
      "execution_count": null,
      "outputs": [
        {
          "output_type": "stream",
          "name": "stdout",
          "text": [
            "Archive:  drive/MyDrive/Study/final_2022_125.zip\n",
            "replace final_2022_125.csv? [y]es, [n]o, [A]ll, [N]one, [r]ename: n\n"
          ]
        }
      ]
    },
    {
      "cell_type": "code",
      "source": [
        "df0=pd.read_csv('final_2022_125.csv')\n",
        "df0['dt'] = pd.to_datetime(df0['dt'], format=\"%Y-%m-%d\")\n",
        "df0['year']   = df0['dt'].dt.year\n",
        "df0['year_week'] = df0['year'].astype(str) + df0['week'].astype(str)\n",
        "df0['year_month'] = df0['year'].astype(str) + df0['month'].astype(str)"
      ],
      "metadata": {
        "id": "EOJa2MN4j_5K"
      },
      "execution_count": null,
      "outputs": []
    },
    {
      "cell_type": "code",
      "source": [
        "group_day = df0.groupby(['base', 'dt'])['2'].count().unstack(fill_value=0)\n",
        "group_day"
      ],
      "metadata": {
        "id": "8DPWxlaEkekh"
      },
      "execution_count": null,
      "outputs": []
    },
    {
      "cell_type": "code",
      "source": [
        ""
      ],
      "metadata": {
        "id": "bRH45Yt--IzA"
      },
      "execution_count": null,
      "outputs": []
    },
    {
      "cell_type": "code",
      "source": [
        "group_day   = df0.groupby(['base', 'dt'])['2'].count().unstack(fill_value=0)\n",
        "group_month = df0.groupby(['base', 'year_month'])['2'].count().unstack(fill_value=0)\n",
        "group_week = df0.groupby(['base', 'year_week'])['2'].count().unstack(fill_value=0)\n"
      ],
      "metadata": {
        "id": "glPJOLeAc8Im"
      },
      "execution_count": null,
      "outputs": []
    },
    {
      "cell_type": "code",
      "source": [
        "dt_range  = pd.date_range(df0.dt.min(), df0.dt.max(), freq=\"D\")\n",
        "\n",
        "df0.dt.min(), df0.dt.max()"
      ],
      "metadata": {
        "colab": {
          "base_uri": "https://localhost:8080/"
        },
        "id": "rSmEwR176bW0",
        "outputId": "a0c808c5-2a83-45bf-fff5-251ccc2b4e51"
      },
      "execution_count": null,
      "outputs": [
        {
          "output_type": "execute_result",
          "data": {
            "text/plain": [
              "(Timestamp('2020-01-01 00:00:00'), Timestamp('2022-05-10 00:00:00'))"
            ]
          },
          "metadata": {},
          "execution_count": 10
        }
      ]
    },
    {
      "cell_type": "code",
      "source": [
        "range_day  = pd.date_range(df0.dt.min(), df0.dt.max(), freq=\"D\")"
      ],
      "metadata": {
        "id": "CqHiU1ujdn52"
      },
      "execution_count": null,
      "outputs": []
    },
    {
      "cell_type": "code",
      "source": [
        "\n",
        "start_period_day = indate - pd.offsets.DateOffset(7)\n",
        "end_period_day   = indate - pd.offsets.DateOffset(1)\n",
        "start_period_day, end_period_day\n",
        "\n",
        "start_period_month = indate - pd.offsets.MonthBegin(3)\n",
        "end_period_month   = indate - pd.offsets.MonthEnd(0)\n",
        "start_period_month, end_period_month"
      ],
      "metadata": {
        "colab": {
          "base_uri": "https://localhost:8080/"
        },
        "id": "V6qGVk1hHmeN",
        "outputId": "2ef4fe77-f63a-4e2b-add2-e313d6e62e2b"
      },
      "execution_count": null,
      "outputs": [
        {
          "output_type": "execute_result",
          "data": {
            "text/plain": [
              "(Timestamp('2022-03-01 00:00:00', freq='D'),\n",
              " Timestamp('2022-05-31 00:00:00', freq='D'))"
            ]
          },
          "metadata": {},
          "execution_count": 90
        }
      ]
    },
    {
      "cell_type": "code",
      "source": [
        "def get_features(df: pd.DataFrame, indate: pd.Timestamp) -> pd.DataFrame:\n",
        "\n",
        "\n",
        " \n",
        "    start_period_day = indate - pd.offsets.DateOffset(7)\n",
        "    end_period_day   = indate - pd.offsets.DateOffset(1)\n",
        "\n",
        "\n",
        "    df_day = group_day.loc[:, :end_period_day]\n",
        "    # df_month = group_month.loc[:, :_month]\n",
        "\n",
        "\n",
        "    features = pd.DataFrame([], index=df_day.index)\n",
        "\n",
        "    features[\"date\"]    = indate\n",
        "    features[\"month\"]   = start_period_day.month\n",
        "    features[\"day\"]     = start_period_day.day\n",
        "    features[\"weekday\"] = start_period_day.weekday()+1\n",
        "    features['target']  = group_day.loc[:, indate]\n",
        "    features[[f\"day-{i}\" for i in range(7, 0, -1)]] = df_day.loc[:, start_period_day:end_period_day].copy()\n",
        "\n",
        "    rolling = df_day.rolling(2, axis=1, min_periods=1)\n",
        "    features[[f\"day2_m-{i}\" for i in range(7, 0, -1)]] = rolling.mean().loc[:, start_period_day:end_period_day]\n",
        "\n",
        "    return features"
      ],
      "metadata": {
        "id": "Qz35UZKGqxU9"
      },
      "execution_count": null,
      "outputs": []
    },
    {
      "cell_type": "code",
      "source": [
        "tr_range  = pd.date_range(range_day[30], range_day[-181] , freq=\"D\")\n",
        "val_range = pd.date_range(range_day[-180], range_day[-91] , freq=\"D\")\n",
        "ts_range  = pd.date_range(range_day[-90], range_day[-1] + pd.offsets.DateOffset(2), freq=\"D\")\n",
        "tr_range"
      ],
      "metadata": {
        "colab": {
          "base_uri": "https://localhost:8080/"
        },
        "id": "mOWdzqK2q-la",
        "outputId": "178a4799-3786-44e3-a68b-2e00ce7a1add"
      },
      "execution_count": null,
      "outputs": [
        {
          "output_type": "execute_result",
          "data": {
            "text/plain": [
              "DatetimeIndex(['2020-01-31', '2020-02-01', '2020-02-02', '2020-02-03',\n",
              "               '2020-02-04', '2020-02-05', '2020-02-06', '2020-02-07',\n",
              "               '2020-02-08', '2020-02-09',\n",
              "               ...\n",
              "               '2021-11-02', '2021-11-03', '2021-11-04', '2021-11-05',\n",
              "               '2021-11-06', '2021-11-07', '2021-11-08', '2021-11-09',\n",
              "               '2021-11-10', '2021-11-11'],\n",
              "              dtype='datetime64[ns]', length=651, freq='D')"
            ]
          },
          "metadata": {},
          "execution_count": 247
        }
      ]
    },
    {
      "cell_type": "code",
      "source": [
        "full_features = {}\n",
        "\n",
        "\n",
        "for dataset, dataset_range in zip([\"tr\", \"val\", \"ts\"], [tr_range, val_range, ts_range]):\n",
        "    dataset_features = []\n",
        "    for target_month in dataset_range:\n",
        "        try:\n",
        "            features = get_features(group_day, target_month)\n",
        "            dataset_features.append(features.reset_index())\n",
        "        except:\n",
        "            pass\n",
        "\n",
        "\n",
        "    full_features[dataset] = pd.concat(dataset_features, ignore_index=True)"
      ],
      "metadata": {
        "id": "nMyUpdS6pL6L"
      },
      "execution_count": null,
      "outputs": []
    },
    {
      "cell_type": "code",
      "source": [
        "CAT_COLS = ['base','month','day','weekday']\n",
        "FTS_COLS = {'base',\n",
        "        'day',\n",
        "        'day-1',\n",
        "        'day-2',\n",
        "        'day-3',\n",
        "        'day-4',\n",
        "        'day-5',\n",
        "        'day-6',\n",
        "        'day-7',\n",
        "        'day2_m-1',\n",
        "        'day2_m-2',\n",
        "        'day2_m-3',\n",
        "        'day2_m-4',\n",
        "        'day2_m-5',\n",
        "        'day2_m-6',\n",
        "        'day2_m-7',\n",
        "        'month',\n",
        "        'weekday'}\n",
        "\n",
        "model = CatBoostRegressor(iterations=1000,\n",
        "                          early_stopping_rounds=30,\n",
        "                          depth=6,\n",
        "                          cat_features=CAT_COLS,\n",
        "                          random_state=2022,\n",
        "                          verbose=10)\n",
        "\n",
        "model.fit(full_features[\"tr\"][FTS_COLS], full_features[\"tr\"]['target'],\n",
        "          eval_set=(full_features[\"val\"][FTS_COLS], full_features[\"val\"]['target']))\n",
        "\n"
      ],
      "metadata": {
        "colab": {
          "base_uri": "https://localhost:8080/"
        },
        "id": "uxcxFDFYxGdV",
        "outputId": "1ea9ee05-4ffa-4728-b9bd-99a4072a29b4"
      },
      "execution_count": null,
      "outputs": [
        {
          "output_type": "stream",
          "name": "stdout",
          "text": [
            "Learning rate set to 0.083766\n",
            "0:\tlearn: 6.0492155\ttest: 8.6630525\tbest: 8.6630525 (0)\ttotal: 26.1ms\tremaining: 26.1s\n",
            "10:\tlearn: 3.5618767\ttest: 5.6465479\tbest: 5.6465479 (10)\ttotal: 266ms\tremaining: 23.9s\n",
            "20:\tlearn: 2.8370242\ttest: 4.7300049\tbest: 4.7300049 (20)\ttotal: 515ms\tremaining: 24s\n",
            "30:\tlearn: 2.6463279\ttest: 4.4792418\tbest: 4.4792418 (30)\ttotal: 756ms\tremaining: 23.6s\n",
            "40:\tlearn: 2.5780079\ttest: 4.4265364\tbest: 4.4130616 (37)\ttotal: 1.01s\tremaining: 23.6s\n",
            "50:\tlearn: 2.5402448\ttest: 4.3945992\tbest: 4.3945992 (50)\ttotal: 1.23s\tremaining: 22.9s\n",
            "60:\tlearn: 2.5113098\ttest: 4.3735844\tbest: 4.3735844 (60)\ttotal: 1.46s\tremaining: 22.5s\n",
            "70:\tlearn: 2.4889694\ttest: 4.3694618\tbest: 4.3694618 (70)\ttotal: 1.72s\tremaining: 22.6s\n",
            "80:\tlearn: 2.4709863\ttest: 4.3588428\tbest: 4.3588428 (80)\ttotal: 1.97s\tremaining: 22.3s\n",
            "90:\tlearn: 2.4548361\ttest: 4.3658184\tbest: 4.3565108 (85)\ttotal: 2.15s\tremaining: 21.5s\n",
            "100:\tlearn: 2.4377197\ttest: 4.3734266\tbest: 4.3565108 (85)\ttotal: 2.38s\tremaining: 21.2s\n",
            "110:\tlearn: 2.4184783\ttest: 4.3765737\tbest: 4.3565108 (85)\ttotal: 2.61s\tremaining: 20.9s\n",
            "Stopped by overfitting detector  (30 iterations wait)\n",
            "\n",
            "bestTest = 4.356510827\n",
            "bestIteration = 85\n",
            "\n",
            "Shrink model to first 86 iterations.\n"
          ]
        },
        {
          "output_type": "execute_result",
          "data": {
            "text/plain": [
              "<catboost.core.CatBoostRegressor at 0x7f66a88b4210>"
            ]
          },
          "metadata": {},
          "execution_count": 273
        }
      ]
    },
    {
      "cell_type": "code",
      "source": [
        "model.save_model('model.gbm')    # extension not required.\n",
        "\n",
        "# And then, later load - \n",
        "from catboost import CatBoostClassifier\n",
        "model = CatBoostRegressor()      # parameters not required.\n",
        "model.load_model('model.gbm')"
      ],
      "metadata": {
        "colab": {
          "base_uri": "https://localhost:8080/"
        },
        "id": "0-15SN6P4AyO",
        "outputId": "e05e2f34-a00d-4e26-da61-7e1bdaa989d8"
      },
      "execution_count": null,
      "outputs": [
        {
          "output_type": "execute_result",
          "data": {
            "text/plain": [
              "<catboost.core.CatBoostRegressor at 0x7f66a8882990>"
            ]
          },
          "metadata": {},
          "execution_count": 275
        }
      ]
    },
    {
      "cell_type": "code",
      "source": [
        "tr_preds = model.predict(full_features[\"tr\"][FTS_COLS])\n",
        "val_preds = model.predict(full_features[\"val\"][FTS_COLS])\n",
        "ts_preds = model.predict(full_features[\"ts\"][FTS_COLS])"
      ],
      "metadata": {
        "id": "Iq3sKqzqnkkz"
      },
      "execution_count": null,
      "outputs": []
    },
    {
      "cell_type": "code",
      "source": [
        "from sklearn.metrics import mean_squared_error\n",
        "from sklearn.metrics import r2_score\n",
        "\n",
        "col = 'ts'\n",
        "\n",
        "\n",
        "y_true = full_features[col][\"target\"]\n",
        "y_pred =  model.predict(full_features[col][FTS_COLS])\n",
        "r2_score(y_true, y_pred)\n",
        "\n"
      ],
      "metadata": {
        "colab": {
          "base_uri": "https://localhost:8080/"
        },
        "id": "CB7R8RyY08Yd",
        "outputId": "33486c31-6f39-41fc-8aab-1cb153549384"
      },
      "execution_count": null,
      "outputs": [
        {
          "output_type": "execute_result",
          "data": {
            "text/plain": [
              "0.8010439761105692"
            ]
          },
          "metadata": {},
          "execution_count": 292
        }
      ]
    },
    {
      "cell_type": "code",
      "source": [
        "full_features[\"ts\"]"
      ],
      "metadata": {
        "colab": {
          "base_uri": "https://localhost:8080/",
          "height": 658
        },
        "id": "UUdj4O6-1AXU",
        "outputId": "58bc0d51-f016-4d29-969c-6fa12e5edbca"
      },
      "execution_count": null,
      "outputs": [
        {
          "output_type": "execute_result",
          "data": {
            "text/plain": [
              "                                base       date  month  day  weekday  target  \\\n",
              "0                    Ардатовская ЦРБ 2022-02-10      2    3        4       0   \n",
              "1                     Арзамасская РБ 2022-02-10      2    3        4      11   \n",
              "2                    БСМП г. Арзамас 2022-02-10      2    3        4       4   \n",
              "3      БСМП г. Дзержинск Центральная 2022-02-10      2    3        4      10   \n",
              "4     БСМП г. Дзержинск Юго-Западная 2022-02-10      2    3        4      19   \n",
              "...                              ...        ...    ...  ...      ...     ...   \n",
              "2698                  Тонкинская ЦРБ 2022-05-10      5    3        2       0   \n",
              "2699                    Уренская ЦРБ 2022-05-10      5    3        2       0   \n",
              "2700                  Чкаловская ЦРБ 2022-05-10      5    3        2       0   \n",
              "2701                  Шатковская ЦРБ 2022-05-10      5    3        2       0   \n",
              "2702                   Шахунская ЦРБ 2022-05-10      5    3        2       0   \n",
              "\n",
              "      day-7  day-6  day-5  day-4  day-3  day-2  day-1  day2_m-7  day2_m-6  \\\n",
              "0         0      0      0      0      0      0      0       0.0       0.0   \n",
              "1        13      5      8     14      9     11     14      11.0       9.0   \n",
              "2         2      8      9      4      7     12     13       4.5       5.0   \n",
              "3        17      2     19     12     22      4      4      14.5       9.5   \n",
              "4         5     24      7     13     12     30      7      11.0      14.5   \n",
              "...     ...    ...    ...    ...    ...    ...    ...       ...       ...   \n",
              "2698      0      0      0      0      0      0      0       0.0       0.0   \n",
              "2699      0      0      0      0      0      0      0       0.0       0.0   \n",
              "2700      6      2      0      3      3      0      0       5.5       4.0   \n",
              "2701      0      0      0      0      0      0      0       0.0       0.0   \n",
              "2702      0      0      0      0      0      0      0       0.0       0.0   \n",
              "\n",
              "      day2_m-5  day2_m-4  day2_m-3  day2_m-2  day2_m-1  \n",
              "0          0.0       0.0       0.0       0.0       0.0  \n",
              "1          6.5      11.0      11.5      10.0      12.5  \n",
              "2          8.5       6.5       5.5       9.5      12.5  \n",
              "3         10.5      15.5      17.0      13.0       4.0  \n",
              "4         15.5      10.0      12.5      21.0      18.5  \n",
              "...        ...       ...       ...       ...       ...  \n",
              "2698       0.0       0.0       0.0       0.0       0.0  \n",
              "2699       0.0       0.0       0.0       0.0       0.0  \n",
              "2700       1.0       1.5       3.0       1.5       0.0  \n",
              "2701       0.0       0.0       0.0       0.0       0.0  \n",
              "2702       0.0       0.0       0.0       0.0       0.0  \n",
              "\n",
              "[2703 rows x 20 columns]"
            ],
            "text/html": [
              "\n",
              "  <div id=\"df-fbba109a-a313-462a-9131-85c83075d19a\">\n",
              "    <div class=\"colab-df-container\">\n",
              "      <div>\n",
              "<style scoped>\n",
              "    .dataframe tbody tr th:only-of-type {\n",
              "        vertical-align: middle;\n",
              "    }\n",
              "\n",
              "    .dataframe tbody tr th {\n",
              "        vertical-align: top;\n",
              "    }\n",
              "\n",
              "    .dataframe thead th {\n",
              "        text-align: right;\n",
              "    }\n",
              "</style>\n",
              "<table border=\"1\" class=\"dataframe\">\n",
              "  <thead>\n",
              "    <tr style=\"text-align: right;\">\n",
              "      <th></th>\n",
              "      <th>base</th>\n",
              "      <th>date</th>\n",
              "      <th>month</th>\n",
              "      <th>day</th>\n",
              "      <th>weekday</th>\n",
              "      <th>target</th>\n",
              "      <th>day-7</th>\n",
              "      <th>day-6</th>\n",
              "      <th>day-5</th>\n",
              "      <th>day-4</th>\n",
              "      <th>day-3</th>\n",
              "      <th>day-2</th>\n",
              "      <th>day-1</th>\n",
              "      <th>day2_m-7</th>\n",
              "      <th>day2_m-6</th>\n",
              "      <th>day2_m-5</th>\n",
              "      <th>day2_m-4</th>\n",
              "      <th>day2_m-3</th>\n",
              "      <th>day2_m-2</th>\n",
              "      <th>day2_m-1</th>\n",
              "    </tr>\n",
              "  </thead>\n",
              "  <tbody>\n",
              "    <tr>\n",
              "      <th>0</th>\n",
              "      <td>Ардатовская ЦРБ</td>\n",
              "      <td>2022-02-10</td>\n",
              "      <td>2</td>\n",
              "      <td>3</td>\n",
              "      <td>4</td>\n",
              "      <td>0</td>\n",
              "      <td>0</td>\n",
              "      <td>0</td>\n",
              "      <td>0</td>\n",
              "      <td>0</td>\n",
              "      <td>0</td>\n",
              "      <td>0</td>\n",
              "      <td>0</td>\n",
              "      <td>0.0</td>\n",
              "      <td>0.0</td>\n",
              "      <td>0.0</td>\n",
              "      <td>0.0</td>\n",
              "      <td>0.0</td>\n",
              "      <td>0.0</td>\n",
              "      <td>0.0</td>\n",
              "    </tr>\n",
              "    <tr>\n",
              "      <th>1</th>\n",
              "      <td>Арзамасская РБ</td>\n",
              "      <td>2022-02-10</td>\n",
              "      <td>2</td>\n",
              "      <td>3</td>\n",
              "      <td>4</td>\n",
              "      <td>11</td>\n",
              "      <td>13</td>\n",
              "      <td>5</td>\n",
              "      <td>8</td>\n",
              "      <td>14</td>\n",
              "      <td>9</td>\n",
              "      <td>11</td>\n",
              "      <td>14</td>\n",
              "      <td>11.0</td>\n",
              "      <td>9.0</td>\n",
              "      <td>6.5</td>\n",
              "      <td>11.0</td>\n",
              "      <td>11.5</td>\n",
              "      <td>10.0</td>\n",
              "      <td>12.5</td>\n",
              "    </tr>\n",
              "    <tr>\n",
              "      <th>2</th>\n",
              "      <td>БСМП г. Арзамас</td>\n",
              "      <td>2022-02-10</td>\n",
              "      <td>2</td>\n",
              "      <td>3</td>\n",
              "      <td>4</td>\n",
              "      <td>4</td>\n",
              "      <td>2</td>\n",
              "      <td>8</td>\n",
              "      <td>9</td>\n",
              "      <td>4</td>\n",
              "      <td>7</td>\n",
              "      <td>12</td>\n",
              "      <td>13</td>\n",
              "      <td>4.5</td>\n",
              "      <td>5.0</td>\n",
              "      <td>8.5</td>\n",
              "      <td>6.5</td>\n",
              "      <td>5.5</td>\n",
              "      <td>9.5</td>\n",
              "      <td>12.5</td>\n",
              "    </tr>\n",
              "    <tr>\n",
              "      <th>3</th>\n",
              "      <td>БСМП г. Дзержинск Центральная</td>\n",
              "      <td>2022-02-10</td>\n",
              "      <td>2</td>\n",
              "      <td>3</td>\n",
              "      <td>4</td>\n",
              "      <td>10</td>\n",
              "      <td>17</td>\n",
              "      <td>2</td>\n",
              "      <td>19</td>\n",
              "      <td>12</td>\n",
              "      <td>22</td>\n",
              "      <td>4</td>\n",
              "      <td>4</td>\n",
              "      <td>14.5</td>\n",
              "      <td>9.5</td>\n",
              "      <td>10.5</td>\n",
              "      <td>15.5</td>\n",
              "      <td>17.0</td>\n",
              "      <td>13.0</td>\n",
              "      <td>4.0</td>\n",
              "    </tr>\n",
              "    <tr>\n",
              "      <th>4</th>\n",
              "      <td>БСМП г. Дзержинск Юго-Западная</td>\n",
              "      <td>2022-02-10</td>\n",
              "      <td>2</td>\n",
              "      <td>3</td>\n",
              "      <td>4</td>\n",
              "      <td>19</td>\n",
              "      <td>5</td>\n",
              "      <td>24</td>\n",
              "      <td>7</td>\n",
              "      <td>13</td>\n",
              "      <td>12</td>\n",
              "      <td>30</td>\n",
              "      <td>7</td>\n",
              "      <td>11.0</td>\n",
              "      <td>14.5</td>\n",
              "      <td>15.5</td>\n",
              "      <td>10.0</td>\n",
              "      <td>12.5</td>\n",
              "      <td>21.0</td>\n",
              "      <td>18.5</td>\n",
              "    </tr>\n",
              "    <tr>\n",
              "      <th>...</th>\n",
              "      <td>...</td>\n",
              "      <td>...</td>\n",
              "      <td>...</td>\n",
              "      <td>...</td>\n",
              "      <td>...</td>\n",
              "      <td>...</td>\n",
              "      <td>...</td>\n",
              "      <td>...</td>\n",
              "      <td>...</td>\n",
              "      <td>...</td>\n",
              "      <td>...</td>\n",
              "      <td>...</td>\n",
              "      <td>...</td>\n",
              "      <td>...</td>\n",
              "      <td>...</td>\n",
              "      <td>...</td>\n",
              "      <td>...</td>\n",
              "      <td>...</td>\n",
              "      <td>...</td>\n",
              "      <td>...</td>\n",
              "    </tr>\n",
              "    <tr>\n",
              "      <th>2698</th>\n",
              "      <td>Тонкинская ЦРБ</td>\n",
              "      <td>2022-05-10</td>\n",
              "      <td>5</td>\n",
              "      <td>3</td>\n",
              "      <td>2</td>\n",
              "      <td>0</td>\n",
              "      <td>0</td>\n",
              "      <td>0</td>\n",
              "      <td>0</td>\n",
              "      <td>0</td>\n",
              "      <td>0</td>\n",
              "      <td>0</td>\n",
              "      <td>0</td>\n",
              "      <td>0.0</td>\n",
              "      <td>0.0</td>\n",
              "      <td>0.0</td>\n",
              "      <td>0.0</td>\n",
              "      <td>0.0</td>\n",
              "      <td>0.0</td>\n",
              "      <td>0.0</td>\n",
              "    </tr>\n",
              "    <tr>\n",
              "      <th>2699</th>\n",
              "      <td>Уренская ЦРБ</td>\n",
              "      <td>2022-05-10</td>\n",
              "      <td>5</td>\n",
              "      <td>3</td>\n",
              "      <td>2</td>\n",
              "      <td>0</td>\n",
              "      <td>0</td>\n",
              "      <td>0</td>\n",
              "      <td>0</td>\n",
              "      <td>0</td>\n",
              "      <td>0</td>\n",
              "      <td>0</td>\n",
              "      <td>0</td>\n",
              "      <td>0.0</td>\n",
              "      <td>0.0</td>\n",
              "      <td>0.0</td>\n",
              "      <td>0.0</td>\n",
              "      <td>0.0</td>\n",
              "      <td>0.0</td>\n",
              "      <td>0.0</td>\n",
              "    </tr>\n",
              "    <tr>\n",
              "      <th>2700</th>\n",
              "      <td>Чкаловская ЦРБ</td>\n",
              "      <td>2022-05-10</td>\n",
              "      <td>5</td>\n",
              "      <td>3</td>\n",
              "      <td>2</td>\n",
              "      <td>0</td>\n",
              "      <td>6</td>\n",
              "      <td>2</td>\n",
              "      <td>0</td>\n",
              "      <td>3</td>\n",
              "      <td>3</td>\n",
              "      <td>0</td>\n",
              "      <td>0</td>\n",
              "      <td>5.5</td>\n",
              "      <td>4.0</td>\n",
              "      <td>1.0</td>\n",
              "      <td>1.5</td>\n",
              "      <td>3.0</td>\n",
              "      <td>1.5</td>\n",
              "      <td>0.0</td>\n",
              "    </tr>\n",
              "    <tr>\n",
              "      <th>2701</th>\n",
              "      <td>Шатковская ЦРБ</td>\n",
              "      <td>2022-05-10</td>\n",
              "      <td>5</td>\n",
              "      <td>3</td>\n",
              "      <td>2</td>\n",
              "      <td>0</td>\n",
              "      <td>0</td>\n",
              "      <td>0</td>\n",
              "      <td>0</td>\n",
              "      <td>0</td>\n",
              "      <td>0</td>\n",
              "      <td>0</td>\n",
              "      <td>0</td>\n",
              "      <td>0.0</td>\n",
              "      <td>0.0</td>\n",
              "      <td>0.0</td>\n",
              "      <td>0.0</td>\n",
              "      <td>0.0</td>\n",
              "      <td>0.0</td>\n",
              "      <td>0.0</td>\n",
              "    </tr>\n",
              "    <tr>\n",
              "      <th>2702</th>\n",
              "      <td>Шахунская ЦРБ</td>\n",
              "      <td>2022-05-10</td>\n",
              "      <td>5</td>\n",
              "      <td>3</td>\n",
              "      <td>2</td>\n",
              "      <td>0</td>\n",
              "      <td>0</td>\n",
              "      <td>0</td>\n",
              "      <td>0</td>\n",
              "      <td>0</td>\n",
              "      <td>0</td>\n",
              "      <td>0</td>\n",
              "      <td>0</td>\n",
              "      <td>0.0</td>\n",
              "      <td>0.0</td>\n",
              "      <td>0.0</td>\n",
              "      <td>0.0</td>\n",
              "      <td>0.0</td>\n",
              "      <td>0.0</td>\n",
              "      <td>0.0</td>\n",
              "    </tr>\n",
              "  </tbody>\n",
              "</table>\n",
              "<p>2703 rows × 20 columns</p>\n",
              "</div>\n",
              "      <button class=\"colab-df-convert\" onclick=\"convertToInteractive('df-fbba109a-a313-462a-9131-85c83075d19a')\"\n",
              "              title=\"Convert this dataframe to an interactive table.\"\n",
              "              style=\"display:none;\">\n",
              "        \n",
              "  <svg xmlns=\"http://www.w3.org/2000/svg\" height=\"24px\"viewBox=\"0 0 24 24\"\n",
              "       width=\"24px\">\n",
              "    <path d=\"M0 0h24v24H0V0z\" fill=\"none\"/>\n",
              "    <path d=\"M18.56 5.44l.94 2.06.94-2.06 2.06-.94-2.06-.94-.94-2.06-.94 2.06-2.06.94zm-11 1L8.5 8.5l.94-2.06 2.06-.94-2.06-.94L8.5 2.5l-.94 2.06-2.06.94zm10 10l.94 2.06.94-2.06 2.06-.94-2.06-.94-.94-2.06-.94 2.06-2.06.94z\"/><path d=\"M17.41 7.96l-1.37-1.37c-.4-.4-.92-.59-1.43-.59-.52 0-1.04.2-1.43.59L10.3 9.45l-7.72 7.72c-.78.78-.78 2.05 0 2.83L4 21.41c.39.39.9.59 1.41.59.51 0 1.02-.2 1.41-.59l7.78-7.78 2.81-2.81c.8-.78.8-2.07 0-2.86zM5.41 20L4 18.59l7.72-7.72 1.47 1.35L5.41 20z\"/>\n",
              "  </svg>\n",
              "      </button>\n",
              "      \n",
              "  <style>\n",
              "    .colab-df-container {\n",
              "      display:flex;\n",
              "      flex-wrap:wrap;\n",
              "      gap: 12px;\n",
              "    }\n",
              "\n",
              "    .colab-df-convert {\n",
              "      background-color: #E8F0FE;\n",
              "      border: none;\n",
              "      border-radius: 50%;\n",
              "      cursor: pointer;\n",
              "      display: none;\n",
              "      fill: #1967D2;\n",
              "      height: 32px;\n",
              "      padding: 0 0 0 0;\n",
              "      width: 32px;\n",
              "    }\n",
              "\n",
              "    .colab-df-convert:hover {\n",
              "      background-color: #E2EBFA;\n",
              "      box-shadow: 0px 1px 2px rgba(60, 64, 67, 0.3), 0px 1px 3px 1px rgba(60, 64, 67, 0.15);\n",
              "      fill: #174EA6;\n",
              "    }\n",
              "\n",
              "    [theme=dark] .colab-df-convert {\n",
              "      background-color: #3B4455;\n",
              "      fill: #D2E3FC;\n",
              "    }\n",
              "\n",
              "    [theme=dark] .colab-df-convert:hover {\n",
              "      background-color: #434B5C;\n",
              "      box-shadow: 0px 1px 3px 1px rgba(0, 0, 0, 0.15);\n",
              "      filter: drop-shadow(0px 1px 2px rgba(0, 0, 0, 0.3));\n",
              "      fill: #FFFFFF;\n",
              "    }\n",
              "  </style>\n",
              "\n",
              "      <script>\n",
              "        const buttonEl =\n",
              "          document.querySelector('#df-fbba109a-a313-462a-9131-85c83075d19a button.colab-df-convert');\n",
              "        buttonEl.style.display =\n",
              "          google.colab.kernel.accessAllowed ? 'block' : 'none';\n",
              "\n",
              "        async function convertToInteractive(key) {\n",
              "          const element = document.querySelector('#df-fbba109a-a313-462a-9131-85c83075d19a');\n",
              "          const dataTable =\n",
              "            await google.colab.kernel.invokeFunction('convertToInteractive',\n",
              "                                                     [key], {});\n",
              "          if (!dataTable) return;\n",
              "\n",
              "          const docLinkHtml = 'Like what you see? Visit the ' +\n",
              "            '<a target=\"_blank\" href=https://colab.research.google.com/notebooks/data_table.ipynb>data table notebook</a>'\n",
              "            + ' to learn more about interactive tables.';\n",
              "          element.innerHTML = '';\n",
              "          dataTable['output_type'] = 'display_data';\n",
              "          await google.colab.output.renderOutput(dataTable, element);\n",
              "          const docLink = document.createElement('div');\n",
              "          docLink.innerHTML = docLinkHtml;\n",
              "          element.appendChild(docLink);\n",
              "        }\n",
              "      </script>\n",
              "    </div>\n",
              "  </div>\n",
              "  "
            ]
          },
          "metadata": {},
          "execution_count": 254
        }
      ]
    },
    {
      "cell_type": "code",
      "source": [
        "ans = full_features[\"ts\"]\n",
        "ans['pred']= model.predict(full_features[\"ts\"][FTS_COLS])\n",
        "ans['dif'] = (ans['target']-ans['pred'])\n",
        "ans[['target','pred', 'dif']]"
      ],
      "metadata": {
        "colab": {
          "base_uri": "https://localhost:8080/",
          "height": 424
        },
        "id": "Z7c5x7ZV09Ej",
        "outputId": "cdea5134-7aa1-432c-dfb5-1ee2287ca71b"
      },
      "execution_count": null,
      "outputs": [
        {
          "output_type": "execute_result",
          "data": {
            "text/plain": [
              "      target       pred       dif\n",
              "0          0   0.039587 -0.039587\n",
              "1         11  10.745539  0.254461\n",
              "2          4   6.984923 -2.984923\n",
              "3         10   8.620628  1.379372\n",
              "4         19  14.278589  4.721411\n",
              "...      ...        ...       ...\n",
              "2698       0   0.028143 -0.028143\n",
              "2699       0   0.028143 -0.028143\n",
              "2700       0   1.771572 -1.771572\n",
              "2701       0   0.028143 -0.028143\n",
              "2702       0   0.028143 -0.028143\n",
              "\n",
              "[2703 rows x 3 columns]"
            ],
            "text/html": [
              "\n",
              "  <div id=\"df-ffa43acf-2ca9-4422-b6e5-67536b5586d1\">\n",
              "    <div class=\"colab-df-container\">\n",
              "      <div>\n",
              "<style scoped>\n",
              "    .dataframe tbody tr th:only-of-type {\n",
              "        vertical-align: middle;\n",
              "    }\n",
              "\n",
              "    .dataframe tbody tr th {\n",
              "        vertical-align: top;\n",
              "    }\n",
              "\n",
              "    .dataframe thead th {\n",
              "        text-align: right;\n",
              "    }\n",
              "</style>\n",
              "<table border=\"1\" class=\"dataframe\">\n",
              "  <thead>\n",
              "    <tr style=\"text-align: right;\">\n",
              "      <th></th>\n",
              "      <th>target</th>\n",
              "      <th>pred</th>\n",
              "      <th>dif</th>\n",
              "    </tr>\n",
              "  </thead>\n",
              "  <tbody>\n",
              "    <tr>\n",
              "      <th>0</th>\n",
              "      <td>0</td>\n",
              "      <td>0.039587</td>\n",
              "      <td>-0.039587</td>\n",
              "    </tr>\n",
              "    <tr>\n",
              "      <th>1</th>\n",
              "      <td>11</td>\n",
              "      <td>10.745539</td>\n",
              "      <td>0.254461</td>\n",
              "    </tr>\n",
              "    <tr>\n",
              "      <th>2</th>\n",
              "      <td>4</td>\n",
              "      <td>6.984923</td>\n",
              "      <td>-2.984923</td>\n",
              "    </tr>\n",
              "    <tr>\n",
              "      <th>3</th>\n",
              "      <td>10</td>\n",
              "      <td>8.620628</td>\n",
              "      <td>1.379372</td>\n",
              "    </tr>\n",
              "    <tr>\n",
              "      <th>4</th>\n",
              "      <td>19</td>\n",
              "      <td>14.278589</td>\n",
              "      <td>4.721411</td>\n",
              "    </tr>\n",
              "    <tr>\n",
              "      <th>...</th>\n",
              "      <td>...</td>\n",
              "      <td>...</td>\n",
              "      <td>...</td>\n",
              "    </tr>\n",
              "    <tr>\n",
              "      <th>2698</th>\n",
              "      <td>0</td>\n",
              "      <td>0.028143</td>\n",
              "      <td>-0.028143</td>\n",
              "    </tr>\n",
              "    <tr>\n",
              "      <th>2699</th>\n",
              "      <td>0</td>\n",
              "      <td>0.028143</td>\n",
              "      <td>-0.028143</td>\n",
              "    </tr>\n",
              "    <tr>\n",
              "      <th>2700</th>\n",
              "      <td>0</td>\n",
              "      <td>1.771572</td>\n",
              "      <td>-1.771572</td>\n",
              "    </tr>\n",
              "    <tr>\n",
              "      <th>2701</th>\n",
              "      <td>0</td>\n",
              "      <td>0.028143</td>\n",
              "      <td>-0.028143</td>\n",
              "    </tr>\n",
              "    <tr>\n",
              "      <th>2702</th>\n",
              "      <td>0</td>\n",
              "      <td>0.028143</td>\n",
              "      <td>-0.028143</td>\n",
              "    </tr>\n",
              "  </tbody>\n",
              "</table>\n",
              "<p>2703 rows × 3 columns</p>\n",
              "</div>\n",
              "      <button class=\"colab-df-convert\" onclick=\"convertToInteractive('df-ffa43acf-2ca9-4422-b6e5-67536b5586d1')\"\n",
              "              title=\"Convert this dataframe to an interactive table.\"\n",
              "              style=\"display:none;\">\n",
              "        \n",
              "  <svg xmlns=\"http://www.w3.org/2000/svg\" height=\"24px\"viewBox=\"0 0 24 24\"\n",
              "       width=\"24px\">\n",
              "    <path d=\"M0 0h24v24H0V0z\" fill=\"none\"/>\n",
              "    <path d=\"M18.56 5.44l.94 2.06.94-2.06 2.06-.94-2.06-.94-.94-2.06-.94 2.06-2.06.94zm-11 1L8.5 8.5l.94-2.06 2.06-.94-2.06-.94L8.5 2.5l-.94 2.06-2.06.94zm10 10l.94 2.06.94-2.06 2.06-.94-2.06-.94-.94-2.06-.94 2.06-2.06.94z\"/><path d=\"M17.41 7.96l-1.37-1.37c-.4-.4-.92-.59-1.43-.59-.52 0-1.04.2-1.43.59L10.3 9.45l-7.72 7.72c-.78.78-.78 2.05 0 2.83L4 21.41c.39.39.9.59 1.41.59.51 0 1.02-.2 1.41-.59l7.78-7.78 2.81-2.81c.8-.78.8-2.07 0-2.86zM5.41 20L4 18.59l7.72-7.72 1.47 1.35L5.41 20z\"/>\n",
              "  </svg>\n",
              "      </button>\n",
              "      \n",
              "  <style>\n",
              "    .colab-df-container {\n",
              "      display:flex;\n",
              "      flex-wrap:wrap;\n",
              "      gap: 12px;\n",
              "    }\n",
              "\n",
              "    .colab-df-convert {\n",
              "      background-color: #E8F0FE;\n",
              "      border: none;\n",
              "      border-radius: 50%;\n",
              "      cursor: pointer;\n",
              "      display: none;\n",
              "      fill: #1967D2;\n",
              "      height: 32px;\n",
              "      padding: 0 0 0 0;\n",
              "      width: 32px;\n",
              "    }\n",
              "\n",
              "    .colab-df-convert:hover {\n",
              "      background-color: #E2EBFA;\n",
              "      box-shadow: 0px 1px 2px rgba(60, 64, 67, 0.3), 0px 1px 3px 1px rgba(60, 64, 67, 0.15);\n",
              "      fill: #174EA6;\n",
              "    }\n",
              "\n",
              "    [theme=dark] .colab-df-convert {\n",
              "      background-color: #3B4455;\n",
              "      fill: #D2E3FC;\n",
              "    }\n",
              "\n",
              "    [theme=dark] .colab-df-convert:hover {\n",
              "      background-color: #434B5C;\n",
              "      box-shadow: 0px 1px 3px 1px rgba(0, 0, 0, 0.15);\n",
              "      filter: drop-shadow(0px 1px 2px rgba(0, 0, 0, 0.3));\n",
              "      fill: #FFFFFF;\n",
              "    }\n",
              "  </style>\n",
              "\n",
              "      <script>\n",
              "        const buttonEl =\n",
              "          document.querySelector('#df-ffa43acf-2ca9-4422-b6e5-67536b5586d1 button.colab-df-convert');\n",
              "        buttonEl.style.display =\n",
              "          google.colab.kernel.accessAllowed ? 'block' : 'none';\n",
              "\n",
              "        async function convertToInteractive(key) {\n",
              "          const element = document.querySelector('#df-ffa43acf-2ca9-4422-b6e5-67536b5586d1');\n",
              "          const dataTable =\n",
              "            await google.colab.kernel.invokeFunction('convertToInteractive',\n",
              "                                                     [key], {});\n",
              "          if (!dataTable) return;\n",
              "\n",
              "          const docLinkHtml = 'Like what you see? Visit the ' +\n",
              "            '<a target=\"_blank\" href=https://colab.research.google.com/notebooks/data_table.ipynb>data table notebook</a>'\n",
              "            + ' to learn more about interactive tables.';\n",
              "          element.innerHTML = '';\n",
              "          dataTable['output_type'] = 'display_data';\n",
              "          await google.colab.output.renderOutput(dataTable, element);\n",
              "          const docLink = document.createElement('div');\n",
              "          docLink.innerHTML = docLinkHtml;\n",
              "          element.appendChild(docLink);\n",
              "        }\n",
              "      </script>\n",
              "    </div>\n",
              "  </div>\n",
              "  "
            ]
          },
          "metadata": {},
          "execution_count": 293
        }
      ]
    },
    {
      "cell_type": "markdown",
      "source": [
        ""
      ],
      "metadata": {
        "id": "9NjHymuC9ph4"
      }
    },
    {
      "cell_type": "code",
      "source": [
        "ans[ans['dif']>0]['dif'].sum(), ans[ans['dif']<0]['dif'].sum()"
      ],
      "metadata": {
        "colab": {
          "base_uri": "https://localhost:8080/"
        },
        "id": "zcN2Zfec2dgF",
        "outputId": "ff7593c3-22bc-4820-b768-f8d666e2f27c"
      },
      "execution_count": null,
      "outputs": [
        {
          "output_type": "execute_result",
          "data": {
            "text/plain": [
              "(2287.5885510680655, -2784.6173006623976)"
            ]
          },
          "metadata": {},
          "execution_count": 294
        }
      ]
    },
    {
      "cell_type": "code",
      "source": [
        "ans[ans['dif']>0]['dif'].sum()/ans['target'].sum() , ans[ans['dif']<0]['dif'].sum()/ans['target'].sum()"
      ],
      "metadata": {
        "colab": {
          "base_uri": "https://localhost:8080/"
        },
        "id": "4H7tbF2t2v6E",
        "outputId": "beabe7c4-5938-4701-b4c4-a2951d596939"
      },
      "execution_count": null,
      "outputs": [
        {
          "output_type": "execute_result",
          "data": {
            "text/plain": [
              "(0.17671599467501473, -0.21511141758689822)"
            ]
          },
          "metadata": {},
          "execution_count": 295
        }
      ]
    },
    {
      "cell_type": "code",
      "source": [
        ""
      ],
      "metadata": {
        "id": "TpNBSUqg2yl5"
      },
      "execution_count": null,
      "outputs": []
    }
  ]
}