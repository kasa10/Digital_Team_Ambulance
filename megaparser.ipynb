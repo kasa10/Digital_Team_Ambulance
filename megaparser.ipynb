{
  "nbformat": 4,
  "nbformat_minor": 0,
  "metadata": {
    "colab": {
      "name": "megaparser.ipynb",
      "provenance": [],
      "collapsed_sections": []
    },
    "kernelspec": {
      "name": "python3",
      "display_name": "Python 3"
    },
    "language_info": {
      "name": "python"
    }
  },
  "cells": [
    {
      "cell_type": "code",
      "source": [
        "!unzip Big_Data.zip"
      ],
      "metadata": {
        "colab": {
          "base_uri": "https://localhost:8080/"
        },
        "id": "4LQe-i-lW8Vy",
        "outputId": "6f43a7f0-bd66-4d74-dfc2-312e46c4f0e6"
      },
      "execution_count": null,
      "outputs": [
        {
          "output_type": "stream",
          "name": "stdout",
          "text": [
            "Archive:  Big_Data.zip\n",
            "   creating: Big Data для оптимизации работы скорой помощи/\n",
            "  inflating: Big Data для оптимизации работы скорой помощи/Журнал активных вызовов 2020.rar  \n",
            "  inflating: Big Data для оптимизации работы скорой помощи/Журнал активных вызовов 2021.rar  \n",
            "  inflating: Big Data для оптимизации работы скорой помощи/Журнал активных вызовов 2022.zip  \n"
          ]
        }
      ]
    },
    {
      "cell_type": "code",
      "source": [
        "!unzip \"Big Data для оптимизации работы скорой помощи\"/\"Журнал активных вызовов 2022\".zip"
      ],
      "metadata": {
        "colab": {
          "base_uri": "https://localhost:8080/"
        },
        "id": "anRAmXVYXBK3",
        "outputId": "b9ee1e60-bb72-4df9-8b8b-cc88554f9d0a"
      },
      "execution_count": null,
      "outputs": [
        {
          "output_type": "stream",
          "name": "stdout",
          "text": [
            "Archive:  Big Data для оптимизации работы скорой помощи/Журнал активных вызовов 2022.zip\n",
            "  inflating: Журнал активных вызовов 01-2022.xls  \n",
            "  inflating: Журнал активных вызовов 02-2022.xls  \n",
            "  inflating: Журнал активных вызовов 03-2022.xls  \n",
            "  inflating: Журнал активных вызовов 04-2022.xls  \n",
            "  inflating: Журнал активных вызовов 05-2022.xls  \n"
          ]
        }
      ]
    },
    {
      "cell_type": "code",
      "source": [
        "!unrar e \"Big Data для оптимизации работы скорой помощи\"/\"Журнал активных вызовов 2021\".rar"
      ],
      "metadata": {
        "colab": {
          "base_uri": "https://localhost:8080/"
        },
        "id": "x1s_0XH9Xs7K",
        "outputId": "5a9b6826-7d82-4ea7-cf2a-161e1e7d92d3"
      },
      "execution_count": null,
      "outputs": [
        {
          "output_type": "stream",
          "name": "stdout",
          "text": [
            "\n",
            "UNRAR 5.50 freeware      Copyright (c) 1993-2017 Alexander Roshal\n",
            "\n",
            "\n",
            "Extracting from Big Data для оптимизации работы скорой помощи/Журнал активных вызовов 2021.rar\n",
            "\n",
            "Extracting  Журнал активных вызовов 03-2021.xls                          \b\b\b\b  0%\b\b\b\b  1%\b\b\b\b  2%\b\b\b\b  3%\b\b\b\b  4%\b\b\b\b  5%\b\b\b\b  6%\b\b\b\b  7%\b\b\b\b\b  OK \n",
            "Extracting  Журнал активных вызовов 04-2021.xls                          \b\b\b\b  7%\b\b\b\b  8%\b\b\b\b  9%\b\b\b\b 10%\b\b\b\b 11%\b\b\b\b 12%\b\b\b\b 13%\b\b\b\b 14%\b\b\b\b\b  OK \n",
            "Extracting  Журнал активных вызовов 05-2021.xls                          \b\b\b\b 14%\b\b\b\b 15%\b\b\b\b 16%\b\b\b\b 17%\b\b\b\b 18%\b\b\b\b 19%\b\b\b\b 20%\b\b\b\b 21%\b\b\b\b\b  OK \n",
            "Extracting  Журнал активных вызовов 06-2021.xls                          \b\b\b\b 21%\b\b\b\b 22%\b\b\b\b 23%\b\b\b\b 24%\b\b\b\b 25%\b\b\b\b 26%\b\b\b\b 27%\b\b\b\b 28%\b\b\b\b 29%\b\b\b\b\b  OK \n",
            "Extracting  Журнал активных вызовов 07-2021.xls                          \b\b\b\b 30%\b\b\b\b 31%\b\b\b\b 32%\b\b\b\b 33%\b\b\b\b 34%\b\b\b\b 35%\b\b\b\b 36%\b\b\b\b 37%\b\b\b\b\b  OK \n",
            "Extracting  Журнал активных вызовов 08-2021.xls                          \b\b\b\b 37%\b\b\b\b 38%\b\b\b\b 39%\b\b\b\b 40%\b\b\b\b 41%\b\b\b\b 42%\b\b\b\b 43%\b\b\b\b\b  OK \n",
            "Extracting  Журнал активных вызовов 09-2021.xls                          \b\b\b\b 43%\b\b\b\b 44%\b\b\b\b 45%\b\b\b\b 46%\b\b\b\b 47%\b\b\b\b 48%\b\b\b\b 49%\b\b\b\b 50%\b\b\b\b\b  OK \n",
            "Extracting  Журнал активных вызовов 10-2021.xls                          \b\b\b\b 50%\b\b\b\b 51%\b\b\b\b 52%\b\b\b\b 53%\b\b\b\b 54%\b\b\b\b 55%\b\b\b\b 56%\b\b\b\b 57%\b\b\b\b 58%\b\b\b\b 59%\b\b\b\b 60%\b\b\b\b 61%\b\b\b\b 62%\b\b\b\b\b  OK \n",
            "Extracting  Журнал активных вызовов 11-2021.xls                          \b\b\b\b 62%\b\b\b\b 63%\b\b\b\b 64%\b\b\b\b 65%\b\b\b\b 66%\b\b\b\b 67%\b\b\b\b 68%\b\b\b\b 69%\b\b\b\b 70%\b\b\b\b 71%\b\b\b\b 72%\b\b\b\b\b  OK \n",
            "Extracting  Журнал активных вызовов 12-2021.xls                          \b\b\b\b 72%\b\b\b\b 73%\b\b\b\b 74%\b\b\b\b 75%\b\b\b\b 76%\b\b\b\b 77%\b\b\b\b 78%\b\b\b\b 79%\b\b\b\b 80%\b\b\b\b 81%\b\b\b\b 82%\b\b\b\b 83%\b\b\b\b 84%\b\b\b\b\b  OK \n",
            "Extracting  Журнал активных вызовов 01-2021.xls                          \b\b\b\b 84%\b\b\b\b 85%\b\b\b\b 86%\b\b\b\b 87%\b\b\b\b 88%\b\b\b\b 89%\b\b\b\b 90%\b\b\b\b 91%\b\b\b\b 92%\b\b\b\b\b  OK \n",
            "Extracting  Журнал активных вызовов 02-2021.xls                          \b\b\b\b 92%\b\b\b\b 93%\b\b\b\b 94%\b\b\b\b 95%\b\b\b\b 96%\b\b\b\b 97%\b\b\b\b 98%\b\b\b\b 99%\b\b\b\b\b  OK \n",
            "All OK\n"
          ]
        }
      ]
    },
    {
      "cell_type": "code",
      "source": [
        "!unrar e \"Big Data для оптимизации работы скорой помощи\"/\"Журнал активных вызовов 2020\".rar"
      ],
      "metadata": {
        "colab": {
          "base_uri": "https://localhost:8080/"
        },
        "id": "CIfwqKuKX1xw",
        "outputId": "72cca386-af98-45d4-f887-a17d869fad6d"
      },
      "execution_count": null,
      "outputs": [
        {
          "output_type": "stream",
          "name": "stdout",
          "text": [
            "\n",
            "UNRAR 5.50 freeware      Copyright (c) 1993-2017 Alexander Roshal\n",
            "\n",
            "\n",
            "Extracting from Big Data для оптимизации работы скорой помощи/Журнал активных вызовов 2020.rar\n",
            "\n",
            "Extracting  Журнал активных вызовов 01-2020.xls                          \b\b\b\b  0%\b\b\b\b  1%\b\b\b\b  2%\b\b\b\b  3%\b\b\b\b\b  OK \n",
            "Extracting  Журнал активных вызовов 02-2020.xls                          \b\b\b\b  4%\b\b\b\b\b  OK \n",
            "Extracting  Журнал активных вызовов 03-2020.xls                          \b\b\b\b  5%\b\b\b\b  6%\b\b\b\b  7%\b\b\b\b  8%\b\b\b\b  9%\b\b\b\b 10%\b\b\b\b 11%\b\b\b\b 12%\b\b\b\b\b  OK \n",
            "Extracting  Журнал активных вызовов 04-2020.xls                          \b\b\b\b 12%\b\b\b\b 13%\b\b\b\b 14%\b\b\b\b 15%\b\b\b\b 16%\b\b\b\b 17%\b\b\b\b 18%\b\b\b\b 19%\b\b\b\b\b  OK \n",
            "Extracting  Журнал активных вызовов 05-2020.xls                          \b\b\b\b 20%\b\b\b\b 21%\b\b\b\b 22%\b\b\b\b 23%\b\b\b\b 24%\b\b\b\b 25%\b\b\b\b 26%\b\b\b\b 27%\b\b\b\b\b  OK \n",
            "Extracting  Журнал активных вызовов 06-2020.xls                          \b\b\b\b 27%\b\b\b\b 28%\b\b\b\b 29%\b\b\b\b 30%\b\b\b\b 31%\b\b\b\b 32%\b\b\b\b 33%\b\b\b\b\b  OK \n",
            "Extracting  Журнал активных вызовов 07-2020.xls                          \b\b\b\b 34%\b\b\b\b 35%\b\b\b\b 36%\b\b\b\b 37%\b\b\b\b 38%\b\b\b\b 39%\b\b\b\b\b  OK \n",
            "Extracting  Журнал активных вызовов 08-2020.xls                          \b\b\b\b 40%\b\b\b\b 41%\b\b\b\b 42%\b\b\b\b 43%\b\b\b\b 44%\b\b\b\b 45%\b\b\b\b 46%\b\b\b\b 47%\b\b\b\b\b  OK \n",
            "Extracting  Журнал активных вызовов 09-2020.xls                          \b\b\b\b 48%\b\b\b\b 49%\b\b\b\b 50%\b\b\b\b 51%\b\b\b\b 52%\b\b\b\b 53%\b\b\b\b 54%\b\b\b\b 55%\b\b\b\b 56%\b\b\b\b\b  OK \n",
            "Extracting  Журнал активных вызовов 10-2020.xls                          \b\b\b\b 56%\b\b\b\b 57%\b\b\b\b 58%\b\b\b\b 59%\b\b\b\b 60%\b\b\b\b 61%\b\b\b\b 62%\b\b\b\b 63%\b\b\b\b 64%\b\b\b\b 65%\b\b\b\b 66%\b\b\b\b 67%\b\b\b\b 68%\b\b\b\b 69%\b\b\b\b 70%\b\b\b\b\b  OK \n",
            "Extracting  Журнал активных вызовов 11-2020.xls                          \b\b\b\b 70%\b\b\b\b 71%\b\b\b\b 72%\b\b\b\b 73%\b\b\b\b 74%\b\b\b\b 75%\b\b\b\b 76%\b\b\b\b 77%\b\b\b\b 78%\b\b\b\b 79%\b\b\b\b 80%\b\b\b\b 81%\b\b\b\b 82%\b\b\b\b 83%\b\b\b\b 84%\b\b\b\b\b  OK \n",
            "Extracting  Журнал активных вызовов 12-2020.xls                          \b\b\b\b 85%\b\b\b\b 86%\b\b\b\b 87%\b\b\b\b 88%\b\b\b\b 89%\b\b\b\b 90%\b\b\b\b 91%\b\b\b\b 92%\b\b\b\b 93%\b\b\b\b 94%\b\b\b\b 95%\b\b\b\b 96%\b\b\b\b 97%\b\b\b\b 98%\b\b\b\b 99%\b\b\b\b\b  OK \n",
            "All OK\n"
          ]
        }
      ]
    },
    {
      "cell_type": "code",
      "source": [
        "from datetime import datetime, date, time, timedelta"
      ],
      "metadata": {
        "id": "15yKA9_iSiV2"
      },
      "execution_count": null,
      "outputs": []
    },
    {
      "cell_type": "code",
      "source": [
        "import glob, os\n",
        "# os.chdir(\"/mydir\")\n"
      ],
      "metadata": {
        "id": "3Et6qPTET_Gw"
      },
      "execution_count": null,
      "outputs": []
    },
    {
      "cell_type": "code",
      "source": [
        "for file in glob.glob(\"*.xls\"):\n",
        "    print(file)"
      ],
      "metadata": {
        "colab": {
          "base_uri": "https://localhost:8080/"
        },
        "id": "h1IxdR8LZ5VX",
        "outputId": "011a8acf-8fbc-4b2d-a54a-b41abc4d36e0"
      },
      "execution_count": null,
      "outputs": [
        {
          "output_type": "stream",
          "name": "stdout",
          "text": [
            "Журнал активных вызовов 04-2021.xls\n",
            "Журнал активных вызовов 10-2021.xls\n",
            "Журнал активных вызовов 04-2022.xls\n",
            "Журнал активных вызовов 07-2020.xls\n",
            "Журнал активных вызовов 12-2020.xls\n",
            "Журнал активных вызовов 03-2020.xls\n",
            "Журнал активных вызовов 01-2022.xls\n",
            "Журнал активных вызовов 11-2020.xls\n",
            "Журнал активных вызовов 08-2020.xls\n",
            "Журнал активных вызовов 05-2020.xls\n",
            "Журнал активных вызовов 11-2021.xls\n",
            "Журнал активных вызовов 08-2021.xls\n",
            "Журнал активных вызовов 10-2020.xls\n",
            "Журнал активных вызовов 01-2020.xls\n",
            "Журнал активных вызовов 04-2020.xls\n",
            "Журнал активных вызовов 12-2021.xls\n",
            "Журнал активных вызовов 02-2022.xls\n",
            "Журнал активных вызовов 05-2022.xls\n",
            "Журнал активных вызовов 06-2020.xls\n",
            "Журнал активных вызовов 02-2021.xls\n",
            "Журнал активных вызовов 05-2021.xls\n",
            "Журнал активных вызовов 06-2021.xls\n",
            "Журнал активных вызовов 01-2021.xls\n",
            "Журнал активных вызовов 02-2020.xls\n",
            "Журнал активных вызовов 09-2021.xls\n",
            "Журнал активных вызовов 07-2021.xls\n",
            "Журнал активных вызовов 03-2021.xls\n",
            "Журнал активных вызовов 03-2022.xls\n",
            "Журнал активных вызовов 09-2020.xls\n"
          ]
        }
      ]
    },
    {
      "cell_type": "code",
      "source": [
        "import xlrd"
      ],
      "metadata": {
        "id": "yd9xIChMe_rM"
      },
      "execution_count": null,
      "outputs": []
    },
    {
      "cell_type": "code",
      "source": [
        "def isColor(book, sheet, row, col):\n",
        "    xfx = sheet.cell_xf_index(row, col)\n",
        "    xf = book.xf_list[xfx]\n",
        "    bgx = xf.background.pattern_colour_index\n",
        "    pattern_colour = book.colour_map[bgx]\n",
        "\n",
        "    #Actually, despite the name, the background colour is not the background colour.\n",
        "    #background_colour_index = xf.background.background_colour_index\n",
        "    #background_colour = book.colour_map[background_colour_index]\n",
        "\n",
        "    return pattern_colour is not None"
      ],
      "metadata": {
        "id": "H4vImKABfr3f"
      },
      "execution_count": null,
      "outputs": []
    },
    {
      "cell_type": "code",
      "source": [
        "bibl = []\n",
        "for file in glob.glob(\"*.xls\"):\n",
        "    book = xlrd.open_workbook(file, formatting_info=True)\n",
        "    bibl.append(book)"
      ],
      "metadata": {
        "id": "Dj2-k4eqoGtW"
      },
      "execution_count": null,
      "outputs": []
    },
    {
      "cell_type": "code",
      "source": [
        "index = 0\n",
        "db = {}\n",
        "for book in bibl:\n",
        "    # book = xlrd.open_workbook(file, formatting_info=True)\n",
        "    sheet = book.sheet_by_index(0)\n",
        "    print(f'sheets name: {sheet.name}')\n",
        "    rows, cols = sheet.nrows, sheet.ncols\n",
        "    flag = False\n",
        "\n",
        "    curkey = 'defkey'\n",
        "    for row in range(rows):\n",
        "        for col in range(cols):\n",
        "            cvalue = sheet.cell_value(row,col)\n",
        "            if cvalue is not '':\n",
        "                ctype =  sheet.cell_type(row,col)\n",
        "                iscolor = isColor(book,sheet,row,col)\n",
        "                if iscolor: #and cvalue[-1] == ':':\n",
        "                    flag = True\n",
        "                    curkey = cvalue[:-1]\n",
        "                    if cvalue == 'Номер:' and sheet.cell(row,0).value is not '':                                \n",
        "                        index+=1\n",
        "                        frame = {}                \n",
        "                        py_date = xlrd.xldate.xldate_as_tuple(sheet.cell(row,0).value, book.datemode)\n",
        "                        frame['год'] = py_date[0]\n",
        "                        frame['мес'] = py_date[1]\n",
        "                        frame['ден'] = py_date[2]\n",
        "                        frame['абонент'] = sheet.cell(row,19).value\n",
        "                else:\n",
        "                    if flag:\n",
        "                        if  ctype == 3:\n",
        "                            py_time = xlrd.xldate.xldate_as_tuple(cvalue, book.datemode)\n",
        "                            frame[curkey+'час'] = py_time[3]\n",
        "                            frame[curkey+'мин'] = py_time[4]      \n",
        "                        else:\n",
        "                            frame[curkey] = cvalue\n",
        "                        flag = False\n",
        "                        db[index] = frame"
      ],
      "metadata": {
        "colab": {
          "base_uri": "https://localhost:8080/"
        },
        "id": "Xb1nbeGhmKcm",
        "outputId": "52b3443a-edf9-45e3-dc6a-ad090bce6a32"
      },
      "execution_count": null,
      "outputs": [
        {
          "output_type": "stream",
          "name": "stdout",
          "text": [
            "sheets name: Print_Povt\n",
            "sheets name: Print_Povt\n",
            "sheets name: Print_Povt\n",
            "sheets name: Print_Povt\n",
            "sheets name: Print_Povt\n",
            "sheets name: Print_Povt\n",
            "sheets name: Print_Povt\n",
            "sheets name: Print_Povt\n",
            "sheets name: Print_Povt\n",
            "sheets name: Print_Povt\n",
            "sheets name: Print_Povt\n",
            "sheets name: Print_Povt\n",
            "sheets name: Print_Povt\n",
            "sheets name: Print_Povt\n",
            "sheets name: Print_Povt\n",
            "sheets name: Print_Povt\n",
            "sheets name: Print_Povt\n",
            "sheets name: Print_Povt\n",
            "sheets name: Print_Povt\n",
            "sheets name: Print_Povt\n",
            "sheets name: Print_Povt\n",
            "sheets name: Print_Povt\n",
            "sheets name: Print_Povt\n",
            "sheets name: Print_Povt\n",
            "sheets name: Print_Povt\n",
            "sheets name: Print_Povt\n",
            "sheets name: Print_Povt\n",
            "sheets name: Print_Povt\n",
            "sheets name: Print_Povt\n"
          ]
        }
      ]
    },
    {
      "cell_type": "code",
      "source": [
        "import copy"
      ],
      "metadata": {
        "id": "hvED_sZYsZZH"
      },
      "execution_count": null,
      "outputs": []
    },
    {
      "cell_type": "code",
      "source": [
        "db_copy = copy.deepcopy(db)"
      ],
      "metadata": {
        "id": "M2eeBtTjsayj"
      },
      "execution_count": null,
      "outputs": []
    },
    {
      "cell_type": "code",
      "source": [
        "db = copy.deepcopy(db_copy)"
      ],
      "metadata": {
        "id": "oiOXR89atuPv"
      },
      "execution_count": null,
      "outputs": []
    },
    {
      "cell_type": "code",
      "source": [
        "for i in db:\n",
        "    frame = db[i]\n",
        "    if 'Принятчас' in frame:\n",
        "        a = datetime(frame['год'],frame['мес'],frame['ден'],frame['Принятчас'],frame['Принятмин'],0)\n",
        "    else:\n",
        "        a = datetime(frame['год'],frame['мес'],frame['ден'],1,1,0)\n",
        "    if 'Приездчас' in frame:\n",
        "        b = datetime(frame['год'],frame['мес'],frame['ден'],frame['Приездчас'],frame['Приездмин'],0)\n",
        "        c = (b-a)\n",
        "        minutes = int(c.total_seconds() / 60)\n",
        "        frame ['реакциямин'] = minutes\n",
        "    else:\n",
        "        frame ['реакциямин'] = 0\n",
        "\n",
        "    frame ['деннед'] = datetime.isoweekday(a)\n",
        "    frame ['дата'] = a\n",
        "    frame ['юниксдата'] = datetime.timestamp(a)\n",
        "\n",
        "    instr = frame ['Возраст']\n",
        "    wlist = instr.split()\n",
        "    if wlist[-1] == 'месяцев':\n",
        "        frame ['Возраст'] = int(wlist[0])/12\n",
        "    elif wlist[-1] == 'лет':\n",
        "        frame ['Возраст'] = int(wlist[0])/1\n",
        "    else:\n",
        "        frame ['Возраст'] = 0.0"
      ],
      "metadata": {
        "id": "Y6D5oxuNf3Kb"
      },
      "execution_count": null,
      "outputs": []
    },
    {
      "cell_type": "code",
      "source": [
        "db[11]"
      ],
      "metadata": {
        "colab": {
          "base_uri": "https://localhost:8080/"
        },
        "id": "TMjk2eN8UclP",
        "outputId": "497518ed-049e-4267-eafc-d29458559afa"
      },
      "execution_count": null,
      "outputs": [
        {
          "output_type": "execute_result",
          "data": {
            "text/plain": [
              "{'Адрес': 'г.Дзержинск, пр-кт. Циолковского, д.66, кв***',\n",
              " 'Вид': 'неотложное состояние',\n",
              " 'Возраст': 84.0,\n",
              " 'Вызов': 'Первичный',\n",
              " 'Диагноз': ' Пневмония неуточненная',\n",
              " 'Доставлен': 'Поликлиника №2 Городская больница №2, пр-кт. Циолковского  г. Дзержинск',\n",
              " 'Исполмин': 0,\n",
              " 'Исполчас': 0,\n",
              " 'Номер': '20995(196)',\n",
              " 'Повод': 'Болит живот (взрослый)',\n",
              " 'Подстанция': 'БСМП г. Дзержинск Юго-Западная',\n",
              " 'Приездмин': 55,\n",
              " 'Приездчас': 3,\n",
              " 'Принятмин': 45,\n",
              " 'Принятчас': 3,\n",
              " 'Результат': 'отказ от транспортировки для госпитализации в стационар',\n",
              " 'абонент': '',\n",
              " 'год': 2021,\n",
              " 'дата': datetime.datetime(2021, 4, 1, 3, 45),\n",
              " 'ден': 1,\n",
              " 'деннед': 4,\n",
              " 'мес': 4,\n",
              " 'реакциямин': 10,\n",
              " 'юниксдата': 1617248700.0}"
            ]
          },
          "metadata": {},
          "execution_count": 235
        }
      ]
    },
    {
      "cell_type": "code",
      "source": [
        "db_copy_2 = copy.deepcopy(db)"
      ],
      "metadata": {
        "id": "19Sqtrbgvqke"
      },
      "execution_count": null,
      "outputs": []
    },
    {
      "cell_type": "code",
      "source": [
        "import json\n",
        "from bson import json_util"
      ],
      "metadata": {
        "id": "HnNser9f48OK"
      },
      "execution_count": null,
      "outputs": []
    },
    {
      "cell_type": "code",
      "source": [
        "with open(\"db.json\",\"w\") as f:\n",
        "    json.dump(db, f, default=json_util.default)"
      ],
      "metadata": {
        "id": "KMKeNKO25YPi"
      },
      "execution_count": null,
      "outputs": []
    },
    {
      "cell_type": "code",
      "source": [
        "!zip -9 dbjs.zip db.json"
      ],
      "metadata": {
        "colab": {
          "base_uri": "https://localhost:8080/"
        },
        "id": "J2QAppqL6d5m",
        "outputId": "79808a51-9f20-4ddb-a0b3-17b245327011"
      },
      "execution_count": null,
      "outputs": [
        {
          "output_type": "stream",
          "name": "stdout",
          "text": [
            "  adding: db.json (deflated 96%)\n"
          ]
        }
      ]
    },
    {
      "cell_type": "code",
      "source": [
        "db_list = []"
      ],
      "metadata": {
        "id": "UeFkI8pz2UZp"
      },
      "execution_count": null,
      "outputs": []
    },
    {
      "cell_type": "code",
      "source": [
        "for idx in db:\n",
        "    db_list.append(db[idx])"
      ],
      "metadata": {
        "id": "2OwsQHcu3yOq"
      },
      "execution_count": null,
      "outputs": []
    },
    {
      "cell_type": "code",
      "source": [
        "# {k: d[k] for k in sorted(d, key=lambda x: to_datetime(x))}"
      ],
      "metadata": {
        "id": "jNLR6mvEvqsR"
      },
      "execution_count": null,
      "outputs": []
    },
    {
      "cell_type": "code",
      "source": [
        ""
      ],
      "metadata": {
        "id": "xGPBStxxMy7W"
      },
      "execution_count": null,
      "outputs": []
    },
    {
      "cell_type": "code",
      "source": [
        ""
      ],
      "metadata": {
        "id": "BWeTVz50YO3C"
      },
      "execution_count": null,
      "outputs": []
    },
    {
      "cell_type": "code",
      "source": [
        ""
      ],
      "metadata": {
        "id": "wd-u-Bz1YPAP"
      },
      "execution_count": null,
      "outputs": []
    },
    {
      "cell_type": "code",
      "source": [
        ""
      ],
      "metadata": {
        "id": "xPFw-j2HYPK_"
      },
      "execution_count": null,
      "outputs": []
    },
    {
      "cell_type": "code",
      "source": [
        ""
      ],
      "metadata": {
        "id": "EuLZQ9LaYPTE"
      },
      "execution_count": null,
      "outputs": []
    },
    {
      "cell_type": "code",
      "source": [
        ""
      ],
      "metadata": {
        "id": "mIW3vEkTYPbu"
      },
      "execution_count": null,
      "outputs": []
    },
    {
      "cell_type": "code",
      "source": [
        ""
      ],
      "metadata": {
        "id": "r1mXpUmwYPja"
      },
      "execution_count": null,
      "outputs": []
    },
    {
      "cell_type": "code",
      "source": [
        ""
      ],
      "metadata": {
        "id": "rqvcRXwAYPr-"
      },
      "execution_count": null,
      "outputs": []
    },
    {
      "cell_type": "code",
      "source": [
        ""
      ],
      "metadata": {
        "id": "323EMkbSYPzj"
      },
      "execution_count": null,
      "outputs": []
    },
    {
      "cell_type": "code",
      "source": [
        ""
      ],
      "metadata": {
        "id": "j0-y9KzYYP7I"
      },
      "execution_count": null,
      "outputs": []
    },
    {
      "cell_type": "code",
      "source": [
        "book = xlrd.open_workbook(\"Журнал активных вызовов 06-2021.xls\", formatting_info=True)"
      ],
      "metadata": {
        "id": "ts0RAAgygovv"
      },
      "execution_count": null,
      "outputs": []
    },
    {
      "cell_type": "code",
      "source": [
        "sheet = book.sheet_by_index(0)\n",
        "print(f'sheets name: {sheet.name}')"
      ],
      "metadata": {
        "colab": {
          "base_uri": "https://localhost:8080/"
        },
        "id": "EkG9O-6Fihra",
        "outputId": "8f378bda-c139-4e0f-ea77-9dba87162277"
      },
      "execution_count": null,
      "outputs": [
        {
          "output_type": "stream",
          "name": "stdout",
          "text": [
            "sheets name: Print_Povt\n"
          ]
        }
      ]
    },
    {
      "cell_type": "code",
      "source": [
        "rows, cols = sheet.nrows, sheet.ncols\n",
        "print(f'Number of rows: {rows},  Number of cols: {cols}')"
      ],
      "metadata": {
        "colab": {
          "base_uri": "https://localhost:8080/"
        },
        "id": "5b0QaT4jg_FX",
        "outputId": "6414fc3f-2f4c-443e-dde4-46e560c20aa5"
      },
      "execution_count": null,
      "outputs": [
        {
          "output_type": "stream",
          "name": "stdout",
          "text": [
            "Number of rows: 45644,  Number of cols: 21\n"
          ]
        }
      ]
    },
    {
      "cell_type": "code",
      "source": [
        "isColor(book,sheet,3,1)"
      ],
      "metadata": {
        "colab": {
          "base_uri": "https://localhost:8080/"
        },
        "id": "zBvFce7tjck4",
        "outputId": "cb8b8db4-4698-402d-8392-6266a0369a9b"
      },
      "execution_count": null,
      "outputs": [
        {
          "output_type": "execute_result",
          "data": {
            "text/plain": [
              "False"
            ]
          },
          "metadata": {},
          "execution_count": 46
        }
      ]
    },
    {
      "cell_type": "code",
      "source": [
        "flag = False\n",
        "for row in range(150):\n",
        "    for col in range(cols):\n",
        "        cvalue = sheet.cell_value(row,col)\n",
        "        ctype =  sheet.cell_type(row,col)\n",
        "        iscolor = isColor(book,sheet,row,col)\n",
        "        if iscolor and str(cvalue) == 'Номер:':\n",
        "            print()\n",
        "            flag = True\n",
        "            py_date = xlrd.xldate.xldate_as_tuple(sheet.cell(row,col-2).value, book.datemode)\n",
        "            print(py_date[0],py_date[1], py_date[2], sep = '|', end='|')\n",
        "        if flag and not iscolor and cvalue:\n",
        "            if  ctype == 3:\n",
        "                py_time = xlrd.xldate.xldate_as_tuple(cvalue, book.datemode)\n",
        "                print(py_time[3],py_time[4], sep = '|', end='|')\n",
        "            else:\n",
        "                print(cvalue, end='|')"
      ],
      "metadata": {
        "id": "1RnPdSDrjctE"
      },
      "execution_count": null,
      "outputs": []
    },
    {
      "cell_type": "code",
      "source": [
        ""
      ],
      "metadata": {
        "id": "xYa-JEcJUdCi"
      },
      "execution_count": null,
      "outputs": []
    },
    {
      "cell_type": "code",
      "source": [
        "flag = False\n",
        "index = 0\n",
        "db = {}\n",
        "curkey = 'defkey'\n",
        "for row in range(50):\n",
        "    for col in range(cols):\n",
        "        cvalue = sheet.cell_value(row,col)\n",
        "        if cvalue is not '':\n",
        "            ctype =  sheet.cell_type(row,col)\n",
        "            iscolor = isColor(book,sheet,row,col)\n",
        "            if iscolor:\n",
        "                flag = True\n",
        "                curkey = cvalue[:-1]\n",
        "                if cvalue == 'Номер:':                                \n",
        "                    index+=1\n",
        "                    frame = {}                \n",
        "                    py_date = xlrd.xldate.xldate_as_tuple(sheet.cell(row,0).value, book.datemode)\n",
        "                    frame['год'] = py_date[0]\n",
        "                    frame['мес'] = py_date[1]\n",
        "                    frame['ден'] = py_date[2]\n",
        "                    frame['абонент'] = sheet.cell(row,19).value\n",
        "            else:\n",
        "                if flag:\n",
        "                    if  ctype == 3:\n",
        "                        py_time = xlrd.xldate.xldate_as_tuple(cvalue, book.datemode)\n",
        "                        frame[curkey+'час'] = py_time[3]\n",
        "                        frame[curkey+'мин'] = py_time[4]      \n",
        "                    else:\n",
        "                        frame[curkey] = cvalue\n",
        "                    flag = False\n",
        "                    db[index] = frame"
      ],
      "metadata": {
        "id": "fBfKqqLXG5ck"
      },
      "execution_count": null,
      "outputs": []
    },
    {
      "cell_type": "code",
      "source": [
        ""
      ],
      "metadata": {
        "id": "YUn7f2zYfwh4"
      },
      "execution_count": null,
      "outputs": []
    },
    {
      "cell_type": "code",
      "source": [
        ""
      ],
      "metadata": {
        "id": "ED6_8evcfxDE"
      },
      "execution_count": null,
      "outputs": []
    },
    {
      "cell_type": "code",
      "source": [
        ""
      ],
      "metadata": {
        "id": "Ur8ytiHjfxRv"
      },
      "execution_count": null,
      "outputs": []
    },
    {
      "cell_type": "code",
      "source": [
        "flag = False\n",
        "row = 0\n",
        "col = 0\n",
        "i = 0\n",
        "db = {}\n",
        "while (row < 150):\n",
        "    if isColor(book,sheet,row,2) and sheet.cell_value(row,2) == 'Номер:':\n",
        "        i+=1\n",
        "        frame = {}\n",
        "        py_date = xlrd.xldate.xldate_as_tuple(sheet.cell_value(row,0), book.datemode)\n",
        "        frame['год'] = py_date[0]\n",
        "        frame['мес'] = py_date[1]\n",
        "        frame['ден'] = py_date[2]\n",
        "    for \n",
        "    \n",
        "        db[i] = frame\n",
        "    row += 1\n",
        "    print(row)\n",
        "    # col += 0"
      ],
      "metadata": {
        "id": "1ZIbzr6Gjc1j"
      },
      "execution_count": null,
      "outputs": []
    },
    {
      "cell_type": "code",
      "source": [
        "\n",
        "    sheet.cell_value(row,col)\n",
        "\n",
        "\n",
        "        cvalue = sheet.cell_value(row,col)\n",
        "        ctype =  sheet.cell_type(row,col)\n",
        "        iscolor = isColor(book,sheet,row,col)\n",
        "        if iscolor:\n",
        "            flag = True\n",
        "            if str(cvalue) == 'Номер:':\n",
        "\n",
        "        \n",
        "        \n",
        "        \n",
        "        and str(cvalue) == 'Номер:':\n",
        "            print()\n",
        "            flag = True\n",
        "            py_date = xlrd.xldate.xldate_as_tuple(sheet.cell(row,col-2).value, book.datemode)\n",
        "            print(py_date[0],py_date[1], py_date[2], sep = '|', end='|')\n",
        "        if flag and not iscolor and cvalue:\n",
        "            if  ctype == 3:\n",
        "                py_time = xlrd.xldate.xldate_as_tuple(cvalue, book.datemode)\n",
        "                print(py_time[3],py_time[4], sep = '|', end='|')\n",
        "            else:\n",
        "                print(cvalue, end='|')"
      ],
      "metadata": {
        "id": "PmmuMkqy51zS"
      },
      "execution_count": null,
      "outputs": []
    },
    {
      "cell_type": "code",
      "source": [
        ""
      ],
      "metadata": {
        "id": "bOnUzjzG51-H"
      },
      "execution_count": null,
      "outputs": []
    },
    {
      "cell_type": "code",
      "source": [
        "for index, sh in enumerate(sheets):\n",
        "    sheet = book.sheet_by_index(index)\n",
        "    print \"Sheet:\", sheet.name\n",
        "    rows, cols = sheet.nrows, sheet.ncols\n",
        "    print \"Number of rows: %s   Number of cols: %s\" % (rows, cols)\n",
        "    for row in range(rows):\n",
        "        for col in range(cols):\n",
        "            print \"row, col is:\", row+1, col+1,\n",
        "            thecell = sheet.cell(row, col)      \n",
        "            # could get 'dump', 'value', 'xf_index'\n",
        "            print thecell.value,\n",
        "            xfx = sheet.cell_xf_index(row, col)\n",
        "            xf = book.xf_list[xfx]\n",
        "            bgx = xf.background.pattern_colour_index\n",
        "            print bgx"
      ],
      "metadata": {
        "id": "jMcqmuCrg_MV"
      },
      "execution_count": null,
      "outputs": []
    },
    {
      "cell_type": "code",
      "source": [
        ""
      ],
      "metadata": {
        "id": "RIDeAKJtg_6f"
      },
      "execution_count": null,
      "outputs": []
    }
  ]
}