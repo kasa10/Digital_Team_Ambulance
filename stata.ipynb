{
  "nbformat": 4,
  "nbformat_minor": 0,
  "metadata": {
    "colab": {
      "name": "stata.ipynb",
      "provenance": [],
      "collapsed_sections": []
    },
    "kernelspec": {
      "name": "python3",
      "display_name": "Python 3"
    },
    "language_info": {
      "name": "python"
    }
  },
  "cells": [
    {
      "cell_type": "code",
      "source": [
        "from datetime import datetime, date, time, timedelta"
      ],
      "metadata": {
        "id": "15yKA9_iSiV2"
      },
      "execution_count": 116,
      "outputs": []
    },
    {
      "cell_type": "code",
      "source": [
        "import copy"
      ],
      "metadata": {
        "id": "hvED_sZYsZZH"
      },
      "execution_count": 201,
      "outputs": []
    },
    {
      "cell_type": "code",
      "source": [
        "db_copy = copy.deepcopy(db)"
      ],
      "metadata": {
        "id": "M2eeBtTjsayj"
      },
      "execution_count": 203,
      "outputs": []
    },
    {
      "cell_type": "code",
      "source": [
        "db = copy.deepcopy(db_copy)"
      ],
      "metadata": {
        "id": "oiOXR89atuPv"
      },
      "execution_count": 230,
      "outputs": []
    },
    {
      "cell_type": "code",
      "source": [
        "db[11]"
      ],
      "metadata": {
        "colab": {
          "base_uri": "https://localhost:8080/"
        },
        "id": "TMjk2eN8UclP",
        "outputId": "497518ed-049e-4267-eafc-d29458559afa"
      },
      "execution_count": 235,
      "outputs": [
        {
          "output_type": "execute_result",
          "data": {
            "text/plain": [
              "{'Адрес': 'г.Дзержинск, пр-кт. Циолковского, д.66, кв***',\n",
              " 'Вид': 'неотложное состояние',\n",
              " 'Возраст': 84.0,\n",
              " 'Вызов': 'Первичный',\n",
              " 'Диагноз': ' Пневмония неуточненная',\n",
              " 'Доставлен': 'Поликлиника №2 Городская больница №2, пр-кт. Циолковского  г. Дзержинск',\n",
              " 'Исполмин': 0,\n",
              " 'Исполчас': 0,\n",
              " 'Номер': '20995(196)',\n",
              " 'Повод': 'Болит живот (взрослый)',\n",
              " 'Подстанция': 'БСМП г. Дзержинск Юго-Западная',\n",
              " 'Приездмин': 55,\n",
              " 'Приездчас': 3,\n",
              " 'Принятмин': 45,\n",
              " 'Принятчас': 3,\n",
              " 'Результат': 'отказ от транспортировки для госпитализации в стационар',\n",
              " 'абонент': '',\n",
              " 'год': 2021,\n",
              " 'дата': datetime.datetime(2021, 4, 1, 3, 45),\n",
              " 'ден': 1,\n",
              " 'деннед': 4,\n",
              " 'мес': 4,\n",
              " 'реакциямин': 10,\n",
              " 'юниксдата': 1617248700.0}"
            ]
          },
          "metadata": {},
          "execution_count": 235
        }
      ]
    },
    {
      "cell_type": "code",
      "source": [
        "db_copy_2 = copy.deepcopy(db)"
      ],
      "metadata": {
        "id": "19Sqtrbgvqke"
      },
      "execution_count": 234,
      "outputs": []
    },
    {
      "cell_type": "code",
      "source": [
        "import json\n",
        "from bson import json_util"
      ],
      "metadata": {
        "id": "HnNser9f48OK"
      },
      "execution_count": 251,
      "outputs": []
    },
    {
      "cell_type": "code",
      "source": [
        "with open(\"db.json\",\"w\") as f:\n",
        "    json.dump(db, f, default=json_util.default)"
      ],
      "metadata": {
        "id": "KMKeNKO25YPi"
      },
      "execution_count": 252,
      "outputs": []
    },
    {
      "cell_type": "code",
      "source": [
        "!zip -9 dbjs.zip db.json"
      ],
      "metadata": {
        "colab": {
          "base_uri": "https://localhost:8080/"
        },
        "id": "J2QAppqL6d5m",
        "outputId": "79808a51-9f20-4ddb-a0b3-17b245327011"
      },
      "execution_count": 253,
      "outputs": [
        {
          "output_type": "stream",
          "name": "stdout",
          "text": [
            "  adding: db.json (deflated 96%)\n"
          ]
        }
      ]
    },
    {
      "cell_type": "code",
      "source": [
        "db_list = []"
      ],
      "metadata": {
        "id": "UeFkI8pz2UZp"
      },
      "execution_count": 245,
      "outputs": []
    },
    {
      "cell_type": "code",
      "source": [
        "for idx in db:\n",
        "    db_list.append(db[idx])"
      ],
      "metadata": {
        "id": "2OwsQHcu3yOq"
      },
      "execution_count": 246,
      "outputs": []
    },
    {
      "cell_type": "code",
      "source": [
        "# {k: d[k] for k in sorted(d, key=lambda x: to_datetime(x))}"
      ],
      "metadata": {
        "id": "jNLR6mvEvqsR"
      },
      "execution_count": null,
      "outputs": []
    },
    {
      "cell_type": "code",
      "source": [
        "import pandas as pd"
      ],
      "metadata": {
        "id": "5PUKT4Hrvq0I"
      },
      "execution_count": 238,
      "outputs": []
    },
    {
      "cell_type": "code",
      "source": [
        "import matplotlib.pyplot as plt"
      ],
      "metadata": {
        "id": "LXWwqgO6HG7c"
      },
      "execution_count": 297,
      "outputs": []
    },
    {
      "cell_type": "code",
      "source": [
        "df = pd.DataFrame(db_list)"
      ],
      "metadata": {
        "id": "IzgYDn3J2Cl5"
      },
      "execution_count": 277,
      "outputs": []
    },
    {
      "cell_type": "code",
      "source": [
        "df.index = pd.to_datetime(df.index)"
      ],
      "metadata": {
        "id": "EFE_eOIOBWoI"
      },
      "execution_count": 278,
      "outputs": []
    },
    {
      "cell_type": "code",
      "source": [
        "df.index = df['дата']"
      ],
      "metadata": {
        "id": "Ipy6oh8_BwQM"
      },
      "execution_count": 279,
      "outputs": []
    },
    {
      "cell_type": "code",
      "source": [
        "df = df.sort_index()"
      ],
      "metadata": {
        "id": "ZdgqWQOeFkNR"
      },
      "execution_count": 316,
      "outputs": []
    },
    {
      "cell_type": "code",
      "source": [
        "df.реакциямин[df['реакциямин'] > 400] = 0"
      ],
      "metadata": {
        "colab": {
          "base_uri": "https://localhost:8080/"
        },
        "id": "xrOMfXk8INmX",
        "outputId": "d9df91ea-9c7b-4426-f53e-525aa4d1c9b1"
      },
      "execution_count": 312,
      "outputs": [
        {
          "output_type": "stream",
          "name": "stderr",
          "text": [
            "/usr/local/lib/python3.7/dist-packages/ipykernel_launcher.py:1: SettingWithCopyWarning: \n",
            "A value is trying to be set on a copy of a slice from a DataFrame\n",
            "\n",
            "See the caveats in the documentation: https://pandas.pydata.org/pandas-docs/stable/user_guide/indexing.html#returning-a-view-versus-a-copy\n",
            "  \"\"\"Entry point for launching an IPython kernel.\n"
          ]
        }
      ]
    },
    {
      "cell_type": "code",
      "source": [
        "df.реакциямин.hist()"
      ],
      "metadata": {
        "colab": {
          "base_uri": "https://localhost:8080/",
          "height": 283
        },
        "id": "HqTgF3HFH3dt",
        "outputId": "22662ddd-287b-4bf6-b235-e58cd69748ee"
      },
      "execution_count": 313,
      "outputs": [
        {
          "output_type": "execute_result",
          "data": {
            "text/plain": [
              "<matplotlib.axes._subplots.AxesSubplot at 0x7f6775f95310>"
            ]
          },
          "metadata": {},
          "execution_count": 313
        },
        {
          "output_type": "display_data",
          "data": {
            "text/plain": [
              "<Figure size 432x288 with 1 Axes>"
            ],
            "image/png": "[encoded data removed]"
          },
          "metadata": {
            "needs_background": "light"
          }
        }
      ]
    },
    {
      "cell_type": "code",
      "source": [
        "df.boxplot('реакциямин')"
      ],
      "metadata": {
        "colab": {
          "base_uri": "https://localhost:8080/",
          "height": 283
        },
        "id": "D5lcpUjRJ0Hj",
        "outputId": "7fa63af0-42fe-4b31-809c-bfc7dbca1ac2"
      },
      "execution_count": 314,
      "outputs": [
        {
          "output_type": "execute_result",
          "data": {
            "text/plain": [
              "<matplotlib.axes._subplots.AxesSubplot at 0x7f67761bad50>"
            ]
          },
          "metadata": {},
          "execution_count": 314
        },
        {
          "output_type": "display_data",
          "data": {
            "text/plain": [
              "<Figure size 432x288 with 1 Axes>"
            ],
            "image/png": "[encoded data removed]"
          },
          "metadata": {
            "needs_background": "light"
          }
        }
      ]
    },
    {
      "cell_type": "code",
      "source": [
        "df.реакциямин.resample('D').mean().plot()"
      ],
      "metadata": {
        "colab": {
          "base_uri": "https://localhost:8080/",
          "height": 309
        },
        "id": "m1ma-Y8B2C43",
        "outputId": "df82a5ad-116b-4f9d-cc45-b07a15ac6a30"
      },
      "execution_count": 319,
      "outputs": [
        {
          "output_type": "execute_result",
          "data": {
            "text/plain": [
              "<matplotlib.axes._subplots.AxesSubplot at 0x7f67ded3ab90>"
            ]
          },
          "metadata": {},
          "execution_count": 319
        },
        {
          "output_type": "display_data",
          "data": {
            "text/plain": [
              "<Figure size 432x288 with 1 Axes>"
            ],
            "image/png": "[encoded data removed]"
          },
          "metadata": {
            "needs_background": "light"
          }
        }
      ]
    },
    {
      "cell_type": "code",
      "source": [
        "from pandas.plotting import scatter_matrix"
      ],
      "metadata": {
        "id": "8BXm2pq6SfIo"
      },
      "execution_count": null,
      "outputs": []
    },
    {
      "cell_type": "code",
      "source": [
        "mindf = df[['реакциямин','деннед']]"
      ],
      "metadata": {
        "id": "9URq79hhTd1E"
      },
      "execution_count": 325,
      "outputs": []
    },
    {
      "cell_type": "code",
      "source": [
        "scatter_matrix(mindf, alpha=0.2, figsize=(16, 16), diagonal='kde')"
      ],
      "metadata": {
        "colab": {
          "base_uri": "https://localhost:8080/",
          "height": 1000
        },
        "id": "9wSdDt4sTVfO",
        "outputId": "c0dec1ec-6765-4639-84fb-83a1caa39ef6"
      },
      "execution_count": 327,
      "outputs": [
        {
          "output_type": "execute_result",
          "data": {
            "text/plain": [
              "array([[<matplotlib.axes._subplots.AxesSubplot object at 0x7f675f6d1f50>,\n",
              "        <matplotlib.axes._subplots.AxesSubplot object at 0x7f675f674c50>],\n",
              "       [<matplotlib.axes._subplots.AxesSubplot object at 0x7f675f659290>,\n",
              "        <matplotlib.axes._subplots.AxesSubplot object at 0x7f675f62c890>]],\n",
              "      dtype=object)"
            ]
          },
          "metadata": {},
          "execution_count": 327
        },
        {
          "output_type": "display_data",
          "data": {
            "text/plain": [
              "<Figure size 1152x1152 with 4 Axes>"
            ],
            "image/png": "[encoded data removed]"
          },
          "metadata": {
            "needs_background": "light"
          }
        }
      ]
    },
    {
      "cell_type": "code",
      "source": [
        "df"
      ],
      "metadata": {
        "colab": {
          "base_uri": "https://localhost:8080/",
          "height": 1000
        },
        "id": "lzIBo9BAqY9G",
        "outputId": "58bb5fcd-b3fe-4bd2-949d-b59dd0c3c045"
      },
      "execution_count": 328,
      "outputs": [
        {
          "output_type": "execute_result",
          "data": {
            "text/plain": [
              "                      год  мес  ден  \\\n",
              "дата                                  \n",
              "2020-01-01 09:46:00  2020    1    1   \n",
              "2020-01-01 10:56:00  2020    1    1   \n",
              "2020-01-01 12:07:00  2020    1    1   \n",
              "2020-01-01 13:45:00  2020    1    1   \n",
              "2020-01-01 13:54:00  2020    1    1   \n",
              "...                   ...  ...  ...   \n",
              "2022-05-24 10:44:00  2022    5   24   \n",
              "2022-05-24 10:47:00  2022    5   24   \n",
              "2022-05-24 11:08:00  2022    5   24   \n",
              "2022-05-24 11:08:00  2022    5   24   \n",
              "2022-05-24 11:25:00  2022    5   24   \n",
              "\n",
              "                                                          абонент  \\\n",
              "дата                                                                \n",
              "2020-01-01 09:46:00  родственник, проживающий совместно с больным   \n",
              "2020-01-01 10:56:00                      больной или пострадавший   \n",
              "2020-01-01 12:07:00                      больной или пострадавший   \n",
              "2020-01-01 13:45:00  родственник, проживающий совместно с больным   \n",
              "2020-01-01 13:54:00                      больной или пострадавший   \n",
              "...                                                           ...   \n",
              "2022-05-24 10:44:00  родственник, проживающий совместно с больным   \n",
              "2022-05-24 10:47:00  родственник, проживающий совместно с больным   \n",
              "2022-05-24 11:08:00             родственник, проживающий отдельно   \n",
              "2022-05-24 11:08:00             родственник, проживающий отдельно   \n",
              "2022-05-24 11:25:00  родственник, проживающий совместно с больным   \n",
              "\n",
              "                           Номер  Возраст  \\\n",
              "дата                                        \n",
              "2020-01-01 09:46:00         8(8)     26.0   \n",
              "2020-01-01 10:56:00       16(16)     68.0   \n",
              "2020-01-01 12:07:00       21(21)      1.0   \n",
              "2020-01-01 13:45:00       28(28)      8.0   \n",
              "2020-01-01 13:54:00       29(29)     79.0   \n",
              "...                          ...      ...   \n",
              "2022-05-24 10:44:00    10255(10)     74.0   \n",
              "2022-05-24 10:47:00  171922(142)     29.0   \n",
              "2022-05-24 11:08:00      6025(4)     78.0   \n",
              "2022-05-24 11:08:00  171932(152)     64.0   \n",
              "2022-05-24 11:25:00    14406(11)     60.0   \n",
              "\n",
              "                                                      Повод      Вызов  \\\n",
              "дата                                                                     \n",
              "2020-01-01 09:46:00                   Температура, взрослый  Первичный   \n",
              "2020-01-01 10:56:00                  Болит живот (взрослый)  Первичный   \n",
              "2020-01-01 12:07:00                                     NaN  Первичный   \n",
              "2020-01-01 13:45:00                   Болит живот (ребенок)  Первичный   \n",
              "2020-01-01 13:54:00                  Болит живот (взрослый)  Первичный   \n",
              "...                                                     ...        ...   \n",
              "2022-05-24 10:44:00        Повышение ад без признаков криза  Первичный   \n",
              "2022-05-24 10:47:00                    Эпилепсия (припадок)  Первичный   \n",
              "2022-05-24 11:08:00  Задыхается, приступ бронхиальной астмы  Первичный   \n",
              "2022-05-24 11:08:00    Трудно дышать (взрослый), был здоров  Первичный   \n",
              "2022-05-24 11:25:00        Повышение ад без признаков криза  Первичный   \n",
              "\n",
              "                                       Вид  \\\n",
              "дата                                         \n",
              "2020-01-01 09:46:00   неотложное состояние   \n",
              "2020-01-01 10:56:00   неотложное состояние   \n",
              "2020-01-01 12:07:00   неотложное состояние   \n",
              "2020-01-01 13:45:00  внезапное заболевание   \n",
              "2020-01-01 13:54:00   неотложное состояние   \n",
              "...                                    ...   \n",
              "2022-05-24 10:44:00   неотложное состояние   \n",
              "2022-05-24 10:47:00  внезапное заболевание   \n",
              "2022-05-24 11:08:00  внезапное заболевание   \n",
              "2022-05-24 11:08:00  внезапное заболевание   \n",
              "2022-05-24 11:25:00   неотложное состояние   \n",
              "\n",
              "                                                    Диагноз  ...  \\\n",
              "дата                                                         ...   \n",
              "2020-01-01 09:46:00          ОРВИ. Гипертермический синдром  ...   \n",
              "2020-01-01 10:56:00                               Люмбалгия  ...   \n",
              "2020-01-01 12:07:00                          Острый бронхит  ...   \n",
              "2020-01-01 13:45:00     Другие болезни желчевыводящих путей  ...   \n",
              "2020-01-01 13:54:00                                 Гастрит  ...   \n",
              "...                                                     ...  ...   \n",
              "2022-05-24 10:44:00              Артериальная   гипертензия  ...   \n",
              "2022-05-24 10:47:00  Эпилепсия. Состояние после эпиприпадка  ...   \n",
              "2022-05-24 11:08:00                      Бронхиальная астма  ...   \n",
              "2022-05-24 11:08:00          ОРВИ. Гипертермический синдром  ...   \n",
              "2022-05-24 11:25:00                 Гипертоническая болезнь  ...   \n",
              "\n",
              "                                                                 Адрес  \\\n",
              "дата                                                                     \n",
              "2020-01-01 09:46:00                                                NaN   \n",
              "2020-01-01 10:56:00        г.Нижний Новгород, ш. Казанское, д.9, кв***   \n",
              "2020-01-01 12:07:00  г.Нижний Новгород, ул. Родионова, д.167, корп....   \n",
              "2020-01-01 13:45:00                                                NaN   \n",
              "2020-01-01 13:54:00    г.Нижний Новгород, ул. Богдановича, д.1, кв.***   \n",
              "...                                                                ...   \n",
              "2022-05-24 10:44:00                                                NaN   \n",
              "2022-05-24 10:47:00                                                NaN   \n",
              "2022-05-24 11:08:00                  с.Трофимово, ул. М.Горького, д.89   \n",
              "2022-05-24 11:08:00  г.Нижний Новгород, ул. Родионова, д.165, корп....   \n",
              "2022-05-24 11:25:00                                                NaN   \n",
              "\n",
              "                    Исполчас Исполмин  реакциямин  деннед                дата  \\\n",
              "дата                                                                            \n",
              "2020-01-01 09:46:00      0.0      0.0           6       3 2020-01-01 09:46:00   \n",
              "2020-01-01 10:56:00      0.0      0.0           2       3 2020-01-01 10:56:00   \n",
              "2020-01-01 12:07:00      0.0      0.0          10       3 2020-01-01 12:07:00   \n",
              "2020-01-01 13:45:00      0.0      0.0           8       3 2020-01-01 13:45:00   \n",
              "2020-01-01 13:54:00      0.0      0.0          14       3 2020-01-01 13:54:00   \n",
              "...                      ...      ...         ...     ...                 ...   \n",
              "2022-05-24 10:44:00      0.0      0.0           4       2 2022-05-24 10:44:00   \n",
              "2022-05-24 10:47:00      0.0      0.0           8       2 2022-05-24 10:47:00   \n",
              "2022-05-24 11:08:00      0.0      0.0           5       2 2022-05-24 11:08:00   \n",
              "2022-05-24 11:08:00      0.0      0.0           6       2 2022-05-24 11:08:00   \n",
              "2022-05-24 11:25:00      0.0      0.0          17       2 2022-05-24 11:25:00   \n",
              "\n",
              "                        юниксдата Госпит-анчас  Госпит-анмин  Диспетчер  \n",
              "дата                                                                     \n",
              "2020-01-01 09:46:00  1.577872e+09          NaN           NaN        NaN  \n",
              "2020-01-01 10:56:00  1.577876e+09          NaN           NaN        NaN  \n",
              "2020-01-01 12:07:00  1.577880e+09          NaN           NaN        NaN  \n",
              "2020-01-01 13:45:00  1.577886e+09          NaN           NaN        NaN  \n",
              "2020-01-01 13:54:00  1.577887e+09          NaN           NaN        NaN  \n",
              "...                           ...          ...           ...        ...  \n",
              "2022-05-24 10:44:00  1.653389e+09          NaN           NaN        NaN  \n",
              "2022-05-24 10:47:00  1.653389e+09          NaN           NaN        NaN  \n",
              "2022-05-24 11:08:00  1.653390e+09          NaN           NaN        NaN  \n",
              "2022-05-24 11:08:00  1.653390e+09          NaN           NaN        NaN  \n",
              "2022-05-24 11:25:00  1.653392e+09          NaN           NaN        NaN  \n",
              "\n",
              "[163971 rows x 27 columns]"
            ],
            "text/html": [
              "\n",
              "  <div id=\"df-4c7d44ae-f42b-45ed-8796-5d11312faaac\">\n",
              "    <div class=\"colab-df-container\">\n",
              "      <div>\n",
              "<style scoped>\n",
              "    .dataframe tbody tr th:only-of-type {\n",
              "        vertical-align: middle;\n",
              "    }\n",
              "\n",
              "    .dataframe tbody tr th {\n",
              "        vertical-align: top;\n",
              "    }\n",
              "\n",
              "    .dataframe thead th {\n",
              "        text-align: right;\n",
              "    }\n",
              "</style>\n",
              "<table border=\"1\" class=\"dataframe\">\n",
              "  <thead>\n",
              "    <tr style=\"text-align: right;\">\n",
              "      <th></th>\n",
              "      <th>год</th>\n",
              "      <th>мес</th>\n",
              "      <th>ден</th>\n",
              "      <th>абонент</th>\n",
              "      <th>Номер</th>\n",
              "      <th>Возраст</th>\n",
              "      <th>Повод</th>\n",
              "      <th>Вызов</th>\n",
              "      <th>Вид</th>\n",
              "      <th>Диагноз</th>\n",
              "      <th>...</th>\n",
              "      <th>Адрес</th>\n",
              "      <th>Исполчас</th>\n",
              "      <th>Исполмин</th>\n",
              "      <th>реакциямин</th>\n",
              "      <th>деннед</th>\n",
              "      <th>дата</th>\n",
              "      <th>юниксдата</th>\n",
              "      <th>Госпит-анчас</th>\n",
              "      <th>Госпит-анмин</th>\n",
              "      <th>Диспетчер</th>\n",
              "    </tr>\n",
              "    <tr>\n",
              "      <th>дата</th>\n",
              "      <th></th>\n",
              "      <th></th>\n",
              "      <th></th>\n",
              "      <th></th>\n",
              "      <th></th>\n",
              "      <th></th>\n",
              "      <th></th>\n",
              "      <th></th>\n",
              "      <th></th>\n",
              "      <th></th>\n",
              "      <th></th>\n",
              "      <th></th>\n",
              "      <th></th>\n",
              "      <th></th>\n",
              "      <th></th>\n",
              "      <th></th>\n",
              "      <th></th>\n",
              "      <th></th>\n",
              "      <th></th>\n",
              "      <th></th>\n",
              "      <th></th>\n",
              "    </tr>\n",
              "  </thead>\n",
              "  <tbody>\n",
              "    <tr>\n",
              "      <th>2020-01-01 09:46:00</th>\n",
              "      <td>2020</td>\n",
              "      <td>1</td>\n",
              "      <td>1</td>\n",
              "      <td>родственник, проживающий совместно с больным</td>\n",
              "      <td>8(8)</td>\n",
              "      <td>26.0</td>\n",
              "      <td>Температура, взрослый</td>\n",
              "      <td>Первичный</td>\n",
              "      <td>неотложное состояние</td>\n",
              "      <td>ОРВИ. Гипертермический синдром</td>\n",
              "      <td>...</td>\n",
              "      <td>NaN</td>\n",
              "      <td>0.0</td>\n",
              "      <td>0.0</td>\n",
              "      <td>6</td>\n",
              "      <td>3</td>\n",
              "      <td>2020-01-01 09:46:00</td>\n",
              "      <td>1.577872e+09</td>\n",
              "      <td>NaN</td>\n",
              "      <td>NaN</td>\n",
              "      <td>NaN</td>\n",
              "    </tr>\n",
              "    <tr>\n",
              "      <th>2020-01-01 10:56:00</th>\n",
              "      <td>2020</td>\n",
              "      <td>1</td>\n",
              "      <td>1</td>\n",
              "      <td>больной или пострадавший</td>\n",
              "      <td>16(16)</td>\n",
              "      <td>68.0</td>\n",
              "      <td>Болит живот (взрослый)</td>\n",
              "      <td>Первичный</td>\n",
              "      <td>неотложное состояние</td>\n",
              "      <td>Люмбалгия</td>\n",
              "      <td>...</td>\n",
              "      <td>г.Нижний Новгород, ш. Казанское, д.9, кв***</td>\n",
              "      <td>0.0</td>\n",
              "      <td>0.0</td>\n",
              "      <td>2</td>\n",
              "      <td>3</td>\n",
              "      <td>2020-01-01 10:56:00</td>\n",
              "      <td>1.577876e+09</td>\n",
              "      <td>NaN</td>\n",
              "      <td>NaN</td>\n",
              "      <td>NaN</td>\n",
              "    </tr>\n",
              "    <tr>\n",
              "      <th>2020-01-01 12:07:00</th>\n",
              "      <td>2020</td>\n",
              "      <td>1</td>\n",
              "      <td>1</td>\n",
              "      <td>больной или пострадавший</td>\n",
              "      <td>21(21)</td>\n",
              "      <td>1.0</td>\n",
              "      <td>NaN</td>\n",
              "      <td>Первичный</td>\n",
              "      <td>неотложное состояние</td>\n",
              "      <td>Острый бронхит</td>\n",
              "      <td>...</td>\n",
              "      <td>г.Нижний Новгород, ул. Родионова, д.167, корп....</td>\n",
              "      <td>0.0</td>\n",
              "      <td>0.0</td>\n",
              "      <td>10</td>\n",
              "      <td>3</td>\n",
              "      <td>2020-01-01 12:07:00</td>\n",
              "      <td>1.577880e+09</td>\n",
              "      <td>NaN</td>\n",
              "      <td>NaN</td>\n",
              "      <td>NaN</td>\n",
              "    </tr>\n",
              "    <tr>\n",
              "      <th>2020-01-01 13:45:00</th>\n",
              "      <td>2020</td>\n",
              "      <td>1</td>\n",
              "      <td>1</td>\n",
              "      <td>родственник, проживающий совместно с больным</td>\n",
              "      <td>28(28)</td>\n",
              "      <td>8.0</td>\n",
              "      <td>Болит живот (ребенок)</td>\n",
              "      <td>Первичный</td>\n",
              "      <td>внезапное заболевание</td>\n",
              "      <td>Другие болезни желчевыводящих путей</td>\n",
              "      <td>...</td>\n",
              "      <td>NaN</td>\n",
              "      <td>0.0</td>\n",
              "      <td>0.0</td>\n",
              "      <td>8</td>\n",
              "      <td>3</td>\n",
              "      <td>2020-01-01 13:45:00</td>\n",
              "      <td>1.577886e+09</td>\n",
              "      <td>NaN</td>\n",
              "      <td>NaN</td>\n",
              "      <td>NaN</td>\n",
              "    </tr>\n",
              "    <tr>\n",
              "      <th>2020-01-01 13:54:00</th>\n",
              "      <td>2020</td>\n",
              "      <td>1</td>\n",
              "      <td>1</td>\n",
              "      <td>больной или пострадавший</td>\n",
              "      <td>29(29)</td>\n",
              "      <td>79.0</td>\n",
              "      <td>Болит живот (взрослый)</td>\n",
              "      <td>Первичный</td>\n",
              "      <td>неотложное состояние</td>\n",
              "      <td>Гастрит</td>\n",
              "      <td>...</td>\n",
              "      <td>г.Нижний Новгород, ул. Богдановича, д.1, кв.***</td>\n",
              "      <td>0.0</td>\n",
              "      <td>0.0</td>\n",
              "      <td>14</td>\n",
              "      <td>3</td>\n",
              "      <td>2020-01-01 13:54:00</td>\n",
              "      <td>1.577887e+09</td>\n",
              "      <td>NaN</td>\n",
              "      <td>NaN</td>\n",
              "      <td>NaN</td>\n",
              "    </tr>\n",
              "    <tr>\n",
              "      <th>...</th>\n",
              "      <td>...</td>\n",
              "      <td>...</td>\n",
              "      <td>...</td>\n",
              "      <td>...</td>\n",
              "      <td>...</td>\n",
              "      <td>...</td>\n",
              "      <td>...</td>\n",
              "      <td>...</td>\n",
              "      <td>...</td>\n",
              "      <td>...</td>\n",
              "      <td>...</td>\n",
              "      <td>...</td>\n",
              "      <td>...</td>\n",
              "      <td>...</td>\n",
              "      <td>...</td>\n",
              "      <td>...</td>\n",
              "      <td>...</td>\n",
              "      <td>...</td>\n",
              "      <td>...</td>\n",
              "      <td>...</td>\n",
              "      <td>...</td>\n",
              "    </tr>\n",
              "    <tr>\n",
              "      <th>2022-05-24 10:44:00</th>\n",
              "      <td>2022</td>\n",
              "      <td>5</td>\n",
              "      <td>24</td>\n",
              "      <td>родственник, проживающий совместно с больным</td>\n",
              "      <td>10255(10)</td>\n",
              "      <td>74.0</td>\n",
              "      <td>Повышение ад без признаков криза</td>\n",
              "      <td>Первичный</td>\n",
              "      <td>неотложное состояние</td>\n",
              "      <td>Артериальная   гипертензия</td>\n",
              "      <td>...</td>\n",
              "      <td>NaN</td>\n",
              "      <td>0.0</td>\n",
              "      <td>0.0</td>\n",
              "      <td>4</td>\n",
              "      <td>2</td>\n",
              "      <td>2022-05-24 10:44:00</td>\n",
              "      <td>1.653389e+09</td>\n",
              "      <td>NaN</td>\n",
              "      <td>NaN</td>\n",
              "      <td>NaN</td>\n",
              "    </tr>\n",
              "    <tr>\n",
              "      <th>2022-05-24 10:47:00</th>\n",
              "      <td>2022</td>\n",
              "      <td>5</td>\n",
              "      <td>24</td>\n",
              "      <td>родственник, проживающий совместно с больным</td>\n",
              "      <td>171922(142)</td>\n",
              "      <td>29.0</td>\n",
              "      <td>Эпилепсия (припадок)</td>\n",
              "      <td>Первичный</td>\n",
              "      <td>внезапное заболевание</td>\n",
              "      <td>Эпилепсия. Состояние после эпиприпадка</td>\n",
              "      <td>...</td>\n",
              "      <td>NaN</td>\n",
              "      <td>0.0</td>\n",
              "      <td>0.0</td>\n",
              "      <td>8</td>\n",
              "      <td>2</td>\n",
              "      <td>2022-05-24 10:47:00</td>\n",
              "      <td>1.653389e+09</td>\n",
              "      <td>NaN</td>\n",
              "      <td>NaN</td>\n",
              "      <td>NaN</td>\n",
              "    </tr>\n",
              "    <tr>\n",
              "      <th>2022-05-24 11:08:00</th>\n",
              "      <td>2022</td>\n",
              "      <td>5</td>\n",
              "      <td>24</td>\n",
              "      <td>родственник, проживающий отдельно</td>\n",
              "      <td>6025(4)</td>\n",
              "      <td>78.0</td>\n",
              "      <td>Задыхается, приступ бронхиальной астмы</td>\n",
              "      <td>Первичный</td>\n",
              "      <td>внезапное заболевание</td>\n",
              "      <td>Бронхиальная астма</td>\n",
              "      <td>...</td>\n",
              "      <td>с.Трофимово, ул. М.Горького, д.89</td>\n",
              "      <td>0.0</td>\n",
              "      <td>0.0</td>\n",
              "      <td>5</td>\n",
              "      <td>2</td>\n",
              "      <td>2022-05-24 11:08:00</td>\n",
              "      <td>1.653390e+09</td>\n",
              "      <td>NaN</td>\n",
              "      <td>NaN</td>\n",
              "      <td>NaN</td>\n",
              "    </tr>\n",
              "    <tr>\n",
              "      <th>2022-05-24 11:08:00</th>\n",
              "      <td>2022</td>\n",
              "      <td>5</td>\n",
              "      <td>24</td>\n",
              "      <td>родственник, проживающий отдельно</td>\n",
              "      <td>171932(152)</td>\n",
              "      <td>64.0</td>\n",
              "      <td>Трудно дышать (взрослый), был здоров</td>\n",
              "      <td>Первичный</td>\n",
              "      <td>внезапное заболевание</td>\n",
              "      <td>ОРВИ. Гипертермический синдром</td>\n",
              "      <td>...</td>\n",
              "      <td>г.Нижний Новгород, ул. Родионова, д.165, корп....</td>\n",
              "      <td>0.0</td>\n",
              "      <td>0.0</td>\n",
              "      <td>6</td>\n",
              "      <td>2</td>\n",
              "      <td>2022-05-24 11:08:00</td>\n",
              "      <td>1.653390e+09</td>\n",
              "      <td>NaN</td>\n",
              "      <td>NaN</td>\n",
              "      <td>NaN</td>\n",
              "    </tr>\n",
              "    <tr>\n",
              "      <th>2022-05-24 11:25:00</th>\n",
              "      <td>2022</td>\n",
              "      <td>5</td>\n",
              "      <td>24</td>\n",
              "      <td>родственник, проживающий совместно с больным</td>\n",
              "      <td>14406(11)</td>\n",
              "      <td>60.0</td>\n",
              "      <td>Повышение ад без признаков криза</td>\n",
              "      <td>Первичный</td>\n",
              "      <td>неотложное состояние</td>\n",
              "      <td>Гипертоническая болезнь</td>\n",
              "      <td>...</td>\n",
              "      <td>NaN</td>\n",
              "      <td>0.0</td>\n",
              "      <td>0.0</td>\n",
              "      <td>17</td>\n",
              "      <td>2</td>\n",
              "      <td>2022-05-24 11:25:00</td>\n",
              "      <td>1.653392e+09</td>\n",
              "      <td>NaN</td>\n",
              "      <td>NaN</td>\n",
              "      <td>NaN</td>\n",
              "    </tr>\n",
              "  </tbody>\n",
              "</table>\n",
              "<p>163971 rows × 27 columns</p>\n",
              "</div>\n",
              "      <button class=\"colab-df-convert\" onclick=\"convertToInteractive('df-4c7d44ae-f42b-45ed-8796-5d11312faaac')\"\n",
              "              title=\"Convert this dataframe to an interactive table.\"\n",
              "              style=\"display:none;\">\n",
              "        \n",
              "  <svg xmlns=\"http://www.w3.org/2000/svg\" height=\"24px\"viewBox=\"0 0 24 24\"\n",
              "       width=\"24px\">\n",
              "    <path d=\"M0 0h24v24H0V0z\" fill=\"none\"/>\n",
              "    <path d=\"M18.56 5.44l.94 2.06.94-2.06 2.06-.94-2.06-.94-.94-2.06-.94 2.06-2.06.94zm-11 1L8.5 8.5l.94-2.06 2.06-.94-2.06-.94L8.5 2.5l-.94 2.06-2.06.94zm10 10l.94 2.06.94-2.06 2.06-.94-2.06-.94-.94-2.06-.94 2.06-2.06.94z\"/><path d=\"M17.41 7.96l-1.37-1.37c-.4-.4-.92-.59-1.43-.59-.52 0-1.04.2-1.43.59L10.3 9.45l-7.72 7.72c-.78.78-.78 2.05 0 2.83L4 21.41c.39.39.9.59 1.41.59.51 0 1.02-.2 1.41-.59l7.78-7.78 2.81-2.81c.8-.78.8-2.07 0-2.86zM5.41 20L4 18.59l7.72-7.72 1.47 1.35L5.41 20z\"/>\n",
              "  </svg>\n",
              "      </button>\n",
              "      \n",
              "  <style>\n",
              "    .colab-df-container {\n",
              "      display:flex;\n",
              "      flex-wrap:wrap;\n",
              "      gap: 12px;\n",
              "    }\n",
              "\n",
              "    .colab-df-convert {\n",
              "      background-color: #E8F0FE;\n",
              "      border: none;\n",
              "      border-radius: 50%;\n",
              "      cursor: pointer;\n",
              "      display: none;\n",
              "      fill: #1967D2;\n",
              "      height: 32px;\n",
              "      padding: 0 0 0 0;\n",
              "      width: 32px;\n",
              "    }\n",
              "\n",
              "    .colab-df-convert:hover {\n",
              "      background-color: #E2EBFA;\n",
              "      box-shadow: 0px 1px 2px rgba(60, 64, 67, 0.3), 0px 1px 3px 1px rgba(60, 64, 67, 0.15);\n",
              "      fill: #174EA6;\n",
              "    }\n",
              "\n",
              "    [theme=dark] .colab-df-convert {\n",
              "      background-color: #3B4455;\n",
              "      fill: #D2E3FC;\n",
              "    }\n",
              "\n",
              "    [theme=dark] .colab-df-convert:hover {\n",
              "      background-color: #434B5C;\n",
              "      box-shadow: 0px 1px 3px 1px rgba(0, 0, 0, 0.15);\n",
              "      filter: drop-shadow(0px 1px 2px rgba(0, 0, 0, 0.3));\n",
              "      fill: #FFFFFF;\n",
              "    }\n",
              "  </style>\n",
              "\n",
              "      <script>\n",
              "        const buttonEl =\n",
              "          document.querySelector('#df-4c7d44ae-f42b-45ed-8796-5d11312faaac button.colab-df-convert');\n",
              "        buttonEl.style.display =\n",
              "          google.colab.kernel.accessAllowed ? 'block' : 'none';\n",
              "\n",
              "        async function convertToInteractive(key) {\n",
              "          const element = document.querySelector('#df-4c7d44ae-f42b-45ed-8796-5d11312faaac');\n",
              "          const dataTable =\n",
              "            await google.colab.kernel.invokeFunction('convertToInteractive',\n",
              "                                                     [key], {});\n",
              "          if (!dataTable) return;\n",
              "\n",
              "          const docLinkHtml = 'Like what you see? Visit the ' +\n",
              "            '<a target=\"_blank\" href=https://colab.research.google.com/notebooks/data_table.ipynb>data table notebook</a>'\n",
              "            + ' to learn more about interactive tables.';\n",
              "          element.innerHTML = '';\n",
              "          dataTable['output_type'] = 'display_data';\n",
              "          await google.colab.output.renderOutput(dataTable, element);\n",
              "          const docLink = document.createElement('div');\n",
              "          docLink.innerHTML = docLinkHtml;\n",
              "          element.appendChild(docLink);\n",
              "        }\n",
              "      </script>\n",
              "    </div>\n",
              "  </div>\n",
              "  "
            ]
          },
          "metadata": {},
          "execution_count": 328
        }
      ]
    },
    {
      "cell_type": "code",
      "source": [
        "df.to_csv('db.csv') "
      ],
      "metadata": {
        "id": "h7JEHo93MyMv"
      },
      "execution_count": 329,
      "outputs": []
    },
    {
      "cell_type": "code",
      "source": [
        "!zip -9 dbcsv.zip db.csv"
      ],
      "metadata": {
        "colab": {
          "base_uri": "https://localhost:8080/"
        },
        "id": "X0dBFUBKMyV0",
        "outputId": "9badb7ff-0455-453f-c937-4824d1697149"
      },
      "execution_count": 330,
      "outputs": [
        {
          "output_type": "stream",
          "name": "stdout",
          "text": [
            "  adding: db.csv (deflated 90%)\n"
          ]
        }
      ]
    },
    {
      "cell_type": "code",
      "source": [
        ""
      ],
      "metadata": {
        "id": "CjBq-ra4Myet"
      },
      "execution_count": null,
      "outputs": []
    },
    {
      "cell_type": "code",
      "source": [
        ""
      ],
      "metadata": {
        "id": "8-8tRt8jMyl5"
      },
      "execution_count": null,
      "outputs": []
    },
    {
      "cell_type": "code",
      "source": [
        ""
      ],
      "metadata": {
        "id": "PpOc8Z7gMytG"
      },
      "execution_count": null,
      "outputs": []
    },
    {
      "cell_type": "code",
      "source": [
        ""
      ],
      "metadata": {
        "id": "1HBrPkQcMy0r"
      },
      "execution_count": null,
      "outputs": []
    },
    {
      "cell_type": "code",
      "source": [
        ""
      ],
      "metadata": {
        "id": "xGPBStxxMy7W"
      },
      "execution_count": null,
      "outputs": []
    },
    {
      "cell_type": "code",
      "source": [
        ""
      ],
      "metadata": {
        "id": "xYa-JEcJUdCi"
      },
      "execution_count": null,
      "outputs": []
    },
    {
      "cell_type": "code",
      "source": [
        ""
      ],
      "metadata": {
        "id": "YUn7f2zYfwh4"
      },
      "execution_count": null,
      "outputs": []
    },
    {
      "cell_type": "code",
      "source": [
        ""
      ],
      "metadata": {
        "id": "ED6_8evcfxDE"
      },
      "execution_count": null,
      "outputs": []
    },
    {
      "cell_type": "code",
      "source": [
        ""
      ],
      "metadata": {
        "id": "Ur8ytiHjfxRv"
      },
      "execution_count": null,
      "outputs": []
    },
    {
      "cell_type": "code",
      "source": [
        ""
      ],
      "metadata": {
        "id": "bOnUzjzG51-H"
      },
      "execution_count": null,
      "outputs": []
    },
    {
      "cell_type": "code",
      "source": [
        ""
      ],
      "metadata": {
        "id": "RIDeAKJtg_6f"
      },
      "execution_count": null,
      "outputs": []
    }
  ]
}